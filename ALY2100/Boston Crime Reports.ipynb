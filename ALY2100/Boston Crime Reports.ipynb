{
 "cells": [
  {
   "cell_type": "markdown",
   "id": "protected-grass",
   "metadata": {},
   "source": [
    "# ALY2100 Assignment 2 - Boston - CRIME INCIDENT REPORTS - 2021"
   ]
  },
  {
   "cell_type": "code",
   "execution_count": 1,
   "id": "martial-moisture",
   "metadata": {},
   "outputs": [],
   "source": [
    "import pandas as pd"
   ]
  },
  {
   "cell_type": "code",
   "execution_count": 2,
   "id": "fifty-auction",
   "metadata": {},
   "outputs": [],
   "source": [
    "# Public URLs for the data\n",
    "offence_codes = 'https://data.boston.gov/dataset/6220d948-eae2-4e4b-8723-2dc8e67722a3/resource/3aeccf51-a231-4555-ba21-74572b4c33d6/download/rmsoffensecodes.xlsx'\n",
    "crime_reports ='https://data.boston.gov/dataset/6220d948-eae2-4e4b-8723-2dc8e67722a3/resource/3d818157-6e9b-4fa5-86de-436ca663d88e/download/tmp2u8p7cki.csv'"
   ]
  },
  {
   "cell_type": "code",
   "execution_count": 3,
   "id": "tired-canon",
   "metadata": {},
   "outputs": [],
   "source": [
    "# Read the data (xlsx files require custom engine to load)\n",
    "# Convert the dataframe to a dictionary in the form of {CODE: NAME}\n",
    "offence_code_map = pd.read_excel(offence_codes, engine='openpyxl').set_index('CODE')['NAME'].to_dict()"
   ]
  },
  {
   "cell_type": "code",
   "execution_count": 4,
   "id": "impossible-truth",
   "metadata": {},
   "outputs": [],
   "source": [
    "# Read the crime incident data\n",
    "# The INCIDENT_NUMBER column contains strings and integer values.  Explicitly specifying the dtype to suppress waring.\n",
    "df = pd.read_csv(crime_reports, dtype={'INCIDENT_NUMBER': str})\n",
    "df['OFFENSE'] = df['OFFENSE_CODE'].map(offence_code_map)\n",
    "data = df.to_dict(orient='records')"
   ]
  },
  {
   "cell_type": "code",
   "execution_count": 5,
   "id": "satisfied-delhi",
   "metadata": {},
   "outputs": [],
   "source": [
    "def concat_day_and_offense(d):\n",
    "    \"\"\"\n",
    "    Concatenate the day of week and offense\n",
    "    :param d: Dictionary containing DAY_OF_WEEK & OFFENSE keys\n",
    "    :return: String concatenation of day of the week and offense, \n",
    "        N/A is returned if the expected keys are missing\n",
    "    \"\"\"\n",
    "    result = 'N/A'\n",
    "    if 'DAY_OF_WEEK' in d.keys() and 'OFFENSE' in d.keys():\n",
    "        result = f\"{d.get('DAY_OF_WEEK')} - {d.get('OFFENSE')}\"\n",
    "    return result"
   ]
  },
  {
   "cell_type": "code",
   "execution_count": 6,
   "id": "final-cycle",
   "metadata": {},
   "outputs": [],
   "source": [
    "# Leverage the map function to apply the concat_day_and_offense function to the data iterable dict\n",
    "res = list(map(concat_day_and_offense, data))"
   ]
  },
  {
   "cell_type": "code",
   "execution_count": 7,
   "id": "injured-panama",
   "metadata": {},
   "outputs": [],
   "source": [
    "def compute_summary(data, ntop=5):\n",
    "    \"\"\"\n",
    "    Compute summary\n",
    "    :param data: List of day of the week and offense values representing the number of occurances\n",
    "    :param ntop: Number of top values to return based on descending number of occurances\n",
    "    :return: Tuple of (ntop_summary, summary) where both values are dictionaries in the for of {DAY_OFFENSE: COUNT}\n",
    "    \"\"\"\n",
    "    summary = {}\n",
    "    # Iterate over the unique values contained in the list,\n",
    "    # adding the total count of each item to the summary dict\n",
    "    for v in list(set(data)):\n",
    "        summary[v] = data.count(v)\n",
    "    # Sort the summary dict by values, descending\n",
    "    summary = sorted(summary.items(), key=lambda x: x[1], reverse=True)\n",
    "    # Setup the return variables - ntop summary dict and total summary\n",
    "    ntop_summary = dict(summary[:ntop])\n",
    "    summary = dict(summary)\n",
    "    return ntop_summary, summary"
   ]
  },
  {
   "cell_type": "code",
   "execution_count": 8,
   "id": "short-dominant",
   "metadata": {},
   "outputs": [
    {
     "data": {
      "text/plain": [
       "{'Friday - VERBAL DISPUTE': 1680,\n",
       " 'Saturday - INVESTIGATE PERSON': 1523,\n",
       " 'Friday - INVESTIGATE PERSON': 1523,\n",
       " 'Sunday - VERBAL DISPUTE': 1249,\n",
       " 'Monday - INVESTIGATE PERSON': 1240}"
      ]
     },
     "execution_count": 8,
     "metadata": {},
     "output_type": "execute_result"
    }
   ],
   "source": [
    "ntop_summary, summary = compute_summary(data=res, ntop=5)\n",
    "ntop_summary"
   ]
  },
  {
   "cell_type": "markdown",
   "id": "coordinate-agent",
   "metadata": {},
   "source": [
    "### Below is the output of the equivalent operation performed directly on the dataframe"
   ]
  },
  {
   "cell_type": "code",
   "execution_count": 9,
   "id": "employed-inside",
   "metadata": {},
   "outputs": [],
   "source": [
    "df['DAY_AND_OFFENSE'] = df['DAY_OF_WEEK'] + ' - ' + df['OFFENSE']"
   ]
  },
  {
   "cell_type": "code",
   "execution_count": 10,
   "id": "lined-youth",
   "metadata": {},
   "outputs": [
    {
     "data": {
      "text/plain": [
       "{'Friday - VERBAL DISPUTE': 1680,\n",
       " 'Friday - INVESTIGATE PERSON': 1523,\n",
       " 'Saturday - INVESTIGATE PERSON': 1523,\n",
       " 'Sunday - VERBAL DISPUTE': 1249,\n",
       " 'Monday - INVESTIGATE PERSON': 1240}"
      ]
     },
     "execution_count": 10,
     "metadata": {},
     "output_type": "execute_result"
    }
   ],
   "source": [
    "df.groupby('DAY_AND_OFFENSE')['INCIDENT_NUMBER'].count().sort_values(ascending=False).head(5).to_dict()"
   ]
  },
  {
   "cell_type": "code",
   "execution_count": null,
   "id": "objective-behavior",
   "metadata": {},
   "outputs": [],
   "source": []
  }
 ],
 "metadata": {
  "kernelspec": {
   "display_name": "Python 3",
   "language": "python",
   "name": "python3"
  },
  "language_info": {
   "codemirror_mode": {
    "name": "ipython",
    "version": 3
   },
   "file_extension": ".py",
   "mimetype": "text/x-python",
   "name": "python",
   "nbconvert_exporter": "python",
   "pygments_lexer": "ipython3",
   "version": "3.9.1rc1"
  }
 },
 "nbformat": 4,
 "nbformat_minor": 5
}
