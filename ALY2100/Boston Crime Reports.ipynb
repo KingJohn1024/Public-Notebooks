{
 "cells": [
  {
   "cell_type": "markdown",
   "id": "demanding-symphony",
   "metadata": {},
   "source": [
    "# ALY2100 Assignment 2 - Boston - CRIME INCIDENT REPORTS - 2021"
   ]
  },
  {
   "cell_type": "code",
   "execution_count": 7,
   "id": "early-cement",
   "metadata": {},
   "outputs": [],
   "source": [
    "import pandas as pd"
   ]
  },
  {
   "cell_type": "code",
   "execution_count": 8,
   "id": "lyric-briefs",
   "metadata": {},
   "outputs": [],
   "source": [
    "# Public URLs for the data\n",
    "offence_codes = 'https://data.boston.gov/dataset/6220d948-eae2-4e4b-8723-2dc8e67722a3/resource/3aeccf51-a231-4555-ba21-74572b4c33d6/download/rmsoffensecodes.xlsx'\n",
    "crime_reports ='https://data.boston.gov/dataset/6220d948-eae2-4e4b-8723-2dc8e67722a3/resource/3d818157-6e9b-4fa5-86de-436ca663d88e/download/tmp2u8p7cki.csv'"
   ]
  },
  {
   "cell_type": "code",
   "execution_count": 9,
   "id": "functional-austria",
   "metadata": {},
   "outputs": [
    {
     "data": {
      "text/plain": [
       "{612: 'LARCENY PURSE SNATCH INCL.NO FORCE $200 & OVER',\n",
       " 613: 'LARCENY SHOPLIFTING $200 & OVER',\n",
       " 615: 'LARCENY VEH. ACCESSORY $200 & OVER',\n",
       " 1731: 'INCEST',\n",
       " 3111: 'LICENSE PREMISE VIOLATION'}"
      ]
     },
     "execution_count": 9,
     "metadata": {},
     "output_type": "execute_result"
    }
   ],
   "source": [
    "# Read the data (xlsx files require custom engine to load)\n",
    "# Convert the dataframe to a dictionary in the form of {CODE: NAME}\n",
    "offence_code_map = pd.read_excel(offence_codes, engine='openpyxl').set_index('CODE')['NAME'].to_dict()\n",
    "dict(list(offence_code_map.items())[0:5])  # top 5 dict values"
   ]
  },
  {
   "cell_type": "code",
   "execution_count": 13,
   "id": "weighted-cross",
   "metadata": {},
   "outputs": [
    {
     "data": {
      "text/plain": [
       "[{'INCIDENT_NUMBER': 'I21204457',\n",
       "  'OFFENSE_CODE': 3201,\n",
       "  'OFFENSE_CODE_GROUP': nan,\n",
       "  'OFFENSE_DESCRIPTION': 'PROPERTY - LOST/ MISSING',\n",
       "  'DISTRICT': 'A1',\n",
       "  'REPORTING_AREA': '77',\n",
       "  'SHOOTING': 0,\n",
       "  'OCCURRED_ON_DATE': '2021-01-21 00:00:00',\n",
       "  'YEAR': 2021,\n",
       "  'MONTH': 1,\n",
       "  'DAY_OF_WEEK': 'Thursday',\n",
       "  'HOUR': 0,\n",
       "  'UCR_PART': nan,\n",
       "  'STREET': 'NEW SUDBURY ST',\n",
       "  'Lat': 42.361838,\n",
       "  'Long': -71.059764,\n",
       "  'Location': '(42.36183800, -71.05976400)',\n",
       "  'OFFENSE': 'PROPERTY - LOST'},\n",
       " {'INCIDENT_NUMBER': 'I21204457',\n",
       "  'OFFENSE_CODE': 3201,\n",
       "  'OFFENSE_CODE_GROUP': nan,\n",
       "  'OFFENSE_DESCRIPTION': 'PROPERTY - LOST/ MISSING',\n",
       "  'DISTRICT': 'A1',\n",
       "  'REPORTING_AREA': '77',\n",
       "  'SHOOTING': 0,\n",
       "  'OCCURRED_ON_DATE': '2021-01-21 00:00:00',\n",
       "  'YEAR': 2021,\n",
       "  'MONTH': 1,\n",
       "  'DAY_OF_WEEK': 'Thursday',\n",
       "  'HOUR': 0,\n",
       "  'UCR_PART': nan,\n",
       "  'STREET': 'NEW SUDBURY ST',\n",
       "  'Lat': 42.361838,\n",
       "  'Long': -71.059764,\n",
       "  'Location': '(42.36183800, -71.05976400)',\n",
       "  'OFFENSE': 'PROPERTY - LOST'}]"
      ]
     },
     "execution_count": 13,
     "metadata": {},
     "output_type": "execute_result"
    }
   ],
   "source": [
    "# Read the crime incident data\n",
    "# The INCIDENT_NUMBER column contains strings and integer values.  Explicitly specifying the dtype to suppress waring.\n",
    "df = pd.read_csv(crime_reports, dtype={'INCIDENT_NUMBER': str})\n",
    "df['OFFENSE'] = df['OFFENSE_CODE'].map(offence_code_map)\n",
    "data = df.to_dict(orient='records')\n",
    "data[0:2]  # top 2 list values"
   ]
  },
  {
   "cell_type": "code",
   "execution_count": 15,
   "id": "contrary-purchase",
   "metadata": {},
   "outputs": [],
   "source": [
    "def concat_day_and_offense(d):\n",
    "    \"\"\"\n",
    "    Concatenate the day of week and offense\n",
    "    :param d: Dictionary containing DAY_OF_WEEK & OFFENSE keys\n",
    "    :return: String concatenation of day of the week and offense, \n",
    "        N/A is returned if the expected keys are missing\n",
    "    \"\"\"\n",
    "    result = 'N/A'\n",
    "    if 'DAY_OF_WEEK' in d.keys() and 'OFFENSE' in d.keys():\n",
    "        result = f\"{d.get('DAY_OF_WEEK')} - {d.get('OFFENSE')}\"\n",
    "    return result"
   ]
  },
  {
   "cell_type": "code",
   "execution_count": 18,
   "id": "powered-topic",
   "metadata": {},
   "outputs": [
    {
     "data": {
      "text/plain": [
       "['Thursday - PROPERTY - LOST',\n",
       " 'Thursday - PROPERTY - LOST',\n",
       " 'Thursday - PROPERTY - LOST',\n",
       " 'Thursday - PROPERTY - LOST',\n",
       " 'Thursday - PROPERTY - LOST']"
      ]
     },
     "execution_count": 18,
     "metadata": {},
     "output_type": "execute_result"
    }
   ],
   "source": [
    "# Leverage the map function to apply the concat_day_and_offense function to the data iterable dict\n",
    "res = list(map(concat_day_and_offense, data))\n",
    "res[0:5]  # top 5 list values"
   ]
  },
  {
   "cell_type": "code",
   "execution_count": 19,
   "id": "blessed-reproduction",
   "metadata": {},
   "outputs": [],
   "source": [
    "def compute_summary(data, ntop=5):\n",
    "    \"\"\"\n",
    "    Compute summary\n",
    "    :param data: List of day of the week and offense values representing the number of occurances\n",
    "    :param ntop: Number of top values to return based on descending number of occurances\n",
    "    :return: Tuple of (ntop_summary, summary) where both values are dictionaries in the for of {DAY_OFFENSE: COUNT}\n",
    "    \"\"\"\n",
    "    summary = {}\n",
    "    # Iterate over the unique values contained in the list,\n",
    "    # adding the total count of each item to the summary dict\n",
    "    for v in list(set(data)):\n",
    "        summary[v] = data.count(v)\n",
    "    # Sort the summary dict by values, descending\n",
    "    summary = sorted(summary.items(), key=lambda x: x[1], reverse=True)\n",
    "    # Setup the return variables - ntop summary dict and total summary\n",
    "    ntop_summary = dict(summary[:ntop])\n",
    "    summary = dict(summary)\n",
    "    return ntop_summary, summary"
   ]
  },
  {
   "cell_type": "code",
   "execution_count": 20,
   "id": "concerned-majority",
   "metadata": {},
   "outputs": [
    {
     "data": {
      "text/plain": [
       "{'Friday - VERBAL DISPUTE': 1680,\n",
       " 'Friday - INVESTIGATE PERSON': 1523,\n",
       " 'Saturday - INVESTIGATE PERSON': 1523,\n",
       " 'Sunday - VERBAL DISPUTE': 1249,\n",
       " 'Monday - INVESTIGATE PERSON': 1240}"
      ]
     },
     "execution_count": 20,
     "metadata": {},
     "output_type": "execute_result"
    }
   ],
   "source": [
    "ntop_summary, summary = compute_summary(data=res, ntop=5)\n",
    "ntop_summary"
   ]
  },
  {
   "cell_type": "markdown",
   "id": "floating-logic",
   "metadata": {},
   "source": [
    "### Below is the output of the equivalent operation performed directly on the dataframe"
   ]
  },
  {
   "cell_type": "code",
   "execution_count": 9,
   "id": "owned-aside",
   "metadata": {},
   "outputs": [],
   "source": [
    "df['DAY_AND_OFFENSE'] = df['DAY_OF_WEEK'] + ' - ' + df['OFFENSE']"
   ]
  },
  {
   "cell_type": "code",
   "execution_count": 10,
   "id": "widespread-transmission",
   "metadata": {},
   "outputs": [
    {
     "data": {
      "text/plain": [
       "{'Friday - VERBAL DISPUTE': 1680,\n",
       " 'Friday - INVESTIGATE PERSON': 1523,\n",
       " 'Saturday - INVESTIGATE PERSON': 1523,\n",
       " 'Sunday - VERBAL DISPUTE': 1249,\n",
       " 'Monday - INVESTIGATE PERSON': 1240}"
      ]
     },
     "execution_count": 10,
     "metadata": {},
     "output_type": "execute_result"
    }
   ],
   "source": [
    "df.groupby('DAY_AND_OFFENSE')['INCIDENT_NUMBER'].count().sort_values(ascending=False).head(5).to_dict()"
   ]
  },
  {
   "cell_type": "code",
   "execution_count": null,
   "id": "german-presence",
   "metadata": {},
   "outputs": [],
   "source": []
  }
 ],
 "metadata": {
  "kernelspec": {
   "display_name": "Python 3",
   "language": "python",
   "name": "python3"
  },
  "language_info": {
   "codemirror_mode": {
    "name": "ipython",
    "version": 3
   },
   "file_extension": ".py",
   "mimetype": "text/x-python",
   "name": "python",
   "nbconvert_exporter": "python",
   "pygments_lexer": "ipython3",
   "version": "3.9.1rc1"
  }
 },
 "nbformat": 4,
 "nbformat_minor": 5
}
