{
 "cells": [
  {
   "cell_type": "markdown",
   "id": "wireless-determination",
   "metadata": {},
   "source": [
    "In checking writing systems, it's crucial to prevent alteration of check amounts. One common security method requires that the amount be written in numbers and spelled out in words as well. Create a dictionary that maps numbers to their corresponding word equivalents. Write a code that inputs a numeric check amount that is no more than 1000 and use the dictionary to write the word equivalent to the amount. For example, the amount 112.43 should be written as \n",
    "\n",
    " ONE HUNDRED TWELVE AND 43/100\n",
    "\n",
    "<font color='orange'><b><u>Make sure you use all features learned so far and if this code can be solved by creating your own class (this might not be any classical example for a class, but in the name of practicing, I ask you to), do so. At this point explanation of your solution is a must on top of comments in your code.</u></b></font>"
   ]
  },
  {
   "cell_type": "code",
   "execution_count": 1,
   "id": "adequate-congress",
   "metadata": {},
   "outputs": [],
   "source": [
    "import os"
   ]
  },
  {
   "cell_type": "code",
   "execution_count": 2,
   "id": "suspended-development",
   "metadata": {},
   "outputs": [],
   "source": [
    "class Helper(object):\n",
    "\n",
    "    @staticmethod\n",
    "    def file_exists(file_path):\n",
    "        \"\"\"\n",
    "        File exists check\n",
    "        :param file_path: String full path to the file\n",
    "        :return: Boolean value indicating if the file exists or not\n",
    "        \"\"\"\n",
    "        return os.path.exists(file_path)\n",
    "    \n",
    "    @staticmethod\n",
    "    def write_file(file_path, file_text):\n",
    "        \"\"\"\n",
    "        Write file to disk\n",
    "        :param file_path: String full path to the file\n",
    "        :param file_text: String value to write to the file\n",
    "        :return: Boolean value indicating the sucess of writting to the file\n",
    "        \"\"\"\n",
    "        try:\n",
    "            with open(file_path, 'w') as fh:\n",
    "                fh.write(file_text)\n",
    "        except IOError as e:\n",
    "            print(f'Check the file path, {e.filename} could not be written to.')\n",
    "            return False\n",
    "        except TypeError as e:\n",
    "            print(f'Check the type value of the file_text value: {file_text}')\n",
    "            return False\n",
    "        except:\n",
    "            print('Generic write error')\n",
    "            return False\n",
    "        return True\n",
    "                \n",
    "    def read_file(self, file_path):\n",
    "        \"\"\"\n",
    "        Read file from disk\n",
    "        :param file_path: String Full path to the file\n",
    "        :return: String value of the file contents or empty if file read fails\n",
    "        \"\"\"\n",
    "        if not self.file_exists(file_path):\n",
    "            print(f'Read file {file_path} does not exist')\n",
    "            return ''\n",
    "        try:\n",
    "            with open(file_path, 'r') as fh:\n",
    "                file_text = fh.read()\n",
    "        except IOError as e:\n",
    "            print(f'Check the file path, {e.filename} could not be read.')\n",
    "            return ''\n",
    "        except:\n",
    "            print('Generic write error')\n",
    "            return ''        \n",
    "        return file_text\n",
    "    \n",
    "    @staticmethod\n",
    "    def validated_input(input_prompt='Enter your name:', target_type=str, valid_options=[], \n",
    "                       valid_upper_bound=None):\n",
    "        \"\"\"\n",
    "        Validated input wrapper method\n",
    "        :param input_prompt: String used for the input prompt\n",
    "        :param target_type: Python Type expected for the user input\n",
    "        :param valid_options: List containing valid input options, defaults to empty list and is not applied\n",
    "        :param valid_upper_bound: Maxium value allowed, defaults to None and is not applied\n",
    "        :return: Typed of validated user input\n",
    "        \"\"\"\n",
    "        # Confirm that target_type is actually a Type\n",
    "        if not isinstance(target_type, type):\n",
    "            print(f'Invalid target_type value {target_type}, not a Python Type')\n",
    "        # Loop forever waiting for the user to enter the correctly formatted input\n",
    "        while True:\n",
    "            # Get the user input\n",
    "            user_input = input(input_prompt)\n",
    "            try:\n",
    "                # Try casting the user input to the target type\n",
    "                user_input_typed = target_type(user_input)\n",
    "                # If there is a list of valid options enforce user input membership\n",
    "                if len(valid_options) > 0 and user_input_typed not in valid_options:\n",
    "                    valid_options_str = ', '.join([str(vo) for vo in valid_options])\n",
    "                    print(f'Invalid input, must be one of the following values: {valid_options_str}')\n",
    "                    continue\n",
    "                # Apply the upper bound max check on int and float types if specified\n",
    "                if ((target_type==int and isinstance(valid_upper_bound, int)) or \n",
    "                    (target_type==float and isinstance(valid_upper_bound, float))):\n",
    "                    if user_input_typed > valid_upper_bound:\n",
    "                        print(f'Invalid input, must be less the valid upper bound {valid_upper_bound}')\n",
    "                        continue\n",
    "                break\n",
    "            except:\n",
    "                print(f'Invalid input {user_input} is not of type {target_type.__name__}')\n",
    "        return user_input_typed"
   ]
  },
  {
   "cell_type": "markdown",
   "id": "gorgeous-blowing",
   "metadata": {},
   "source": [
    "<hr />"
   ]
  },
  {
   "cell_type": "markdown",
   "id": "ordinary-program",
   "metadata": {},
   "source": [
    "My strategy to solve this problem is to start with a simple number to words dictionary and then expand it by \n",
    "combining the simple words, ultimately resulting in a numbers to words dictionary covering the necessary \n",
    "combinations.\n",
    "\n",
    "I then compute the check amount from the dollar amount by checking the length of the string to identify the \n",
    "amount of digits, which are then used to lookup the word parts.\n",
    "\n",
    "I made some minor changes to the validated_input() helper to include a valid upper bound parameter and \n",
    "return the typed user input."
   ]
  },
  {
   "cell_type": "code",
   "execution_count": 3,
   "id": "preceding-conducting",
   "metadata": {},
   "outputs": [],
   "source": [
    "# Starter word tokens\n",
    "numbers_to_words = {1: 'ONE', 2: 'TWO', 3: 'THREE', 4: 'FOUR', 5: 'FIVE', 6: 'SIX', 7: 'SEVEN', 8: 'EIGHT',\n",
    "                    9: 'NINE', 10: 'TEN', 11: 'ELEVEN', 12: 'TWELEVE', 13: 'THIRTEEN', 14: 'FOURTEEN', \n",
    "                    15: 'FIFTEEN', 16: 'SIXTEEN', 17: 'SEVENTEEN', 18: 'EIGHTEEN', 19: 'NINETEEN', \n",
    "                    1000: 'ONE THOUSAND'}"
   ]
  },
  {
   "cell_type": "code",
   "execution_count": 4,
   "id": "likely-strength",
   "metadata": {},
   "outputs": [],
   "source": [
    "roots = {2: 'TWENTY', 3: 'THIRTY', 4: 'FOURTY', 5: 'FIFTY', 6: 'SIXTY', 7: 'SEVNTY', 8: 'EIGHTY', 9: 'NINETY'}\n",
    "for number in range(20, 100):\n",
    "    # Exclude the roots themselves (nothing divisable by 10 evenly)\n",
    "    if number % 10 != 0:\n",
    "        # Create composite word - root + number's word token and add to the dict\n",
    "        word = roots.get(int(str(number)[0])) + numbers_to_words.get(int(str(number)[1]))\n",
    "        numbers_to_words[number] = word"
   ]
  },
  {
   "cell_type": "code",
   "execution_count": 5,
   "id": "applicable-benjamin",
   "metadata": {},
   "outputs": [],
   "source": [
    "# Add the roots as wholes, multiply by 10 to bring them to the correct level\n",
    "for number, word in roots.items():\n",
    "    numbers_to_words[number*10] = word"
   ]
  },
  {
   "cell_type": "code",
   "execution_count": 6,
   "id": "negative-penny",
   "metadata": {},
   "outputs": [],
   "source": [
    "# Add the hundreds\n",
    "for number in range(1, 10):\n",
    "    # Create composite word - number word root + HUNDRED and add to the dict\n",
    "    word = f'{numbers_to_words.get(number)} HUNDRED'\n",
    "    numbers_to_words[number*100] = word"
   ]
  },
  {
   "cell_type": "code",
   "execution_count": 7,
   "id": "pharmaceutical-cattle",
   "metadata": {},
   "outputs": [],
   "source": [
    "def compute_check_amount(dollar_amount):\n",
    "    \"\"\"\n",
    "    Compute the verbose check amount from a given dollar amount\n",
    "    :param dollar_amount: Float Dollar amount value\n",
    "    :return String of verbose check amount\n",
    "    \"\"\"\n",
    "    # Get the dollars and cents componts of the float\n",
    "    dollars, cents = divmod(dollar_amount, 1)\n",
    "    dollars = int(dollars)\n",
    "    w = 'ZERO'\n",
    "    if len(str(dollars)) > 1 and len(str(dollars)) < 3:\n",
    "        # Process a 2 digit dollar amount\n",
    "        w = numbers_to_words.get(dollars)\n",
    "    elif len(str(dollars)) == 3:\n",
    "        # Process 3 digit dollar amount in two parts - hundreds and the rest\n",
    "        w1 = numbers_to_words.get(int(str(dollars)[0:1]) * 100)\n",
    "        if dollars % 100 == 0:\n",
    "            # Handle even hundreds\n",
    "            w = w1\n",
    "        else:\n",
    "            w2 = numbers_to_words.get(int(str(dollars)[1:3]))\n",
    "            w = f'{w1} {w2}'\n",
    "    elif len(str(dollars)) == 4:\n",
    "        # Process 4 digit dollar amount in three parts - thousands, hundreds and the rest\n",
    "        w1 = numbers_to_words.get(int(str(dollars)[0:1]) * 1000)\n",
    "        if x % 1000 == 0:\n",
    "            # Handle even thousands\n",
    "            w = w1\n",
    "        elif x % 100 == 0: \n",
    "            # Handle even hundreds\n",
    "            w2 = numbers_to_words.get(int(str(dollars)[1:2]) * 100)\n",
    "            w = f'{w1} {w2}'\n",
    "        else:\n",
    "            w3 = numbers_to_words.get(int(str(dollars)[2:4]))\n",
    "            w = f'{w1} {w2} {w3}'    \n",
    "    # Final dollars and cents string generation\n",
    "    return f'{w} DOLLARS AND {round(cents,2)*100:.0f}/100'"
   ]
  },
  {
   "cell_type": "code",
   "execution_count": 8,
   "id": "significant-reliance",
   "metadata": {},
   "outputs": [
    {
     "name": "stdout",
     "output_type": "stream",
     "text": [
      "Enter a dollar amount112.43\n",
      "ONE HUNDRED TWELEVE DOLLARS AND 43/100\n"
     ]
    }
   ],
   "source": [
    "hlp = Helper()\n",
    "dollar_amount = hlp.validated_input('Enter a dollar amount', target_type=float, valid_upper_bound=1000.)\n",
    "print(compute_check_amount(dollar_amount=dollar_amount))"
   ]
  }
 ],
 "metadata": {
  "kernelspec": {
   "display_name": "Python 3",
   "language": "python",
   "name": "python3"
  },
  "language_info": {
   "codemirror_mode": {
    "name": "ipython",
    "version": 3
   },
   "file_extension": ".py",
   "mimetype": "text/x-python",
   "name": "python",
   "nbconvert_exporter": "python",
   "pygments_lexer": "ipython3",
   "version": "3.9.1rc1"
  }
 },
 "nbformat": 4,
 "nbformat_minor": 5
}
