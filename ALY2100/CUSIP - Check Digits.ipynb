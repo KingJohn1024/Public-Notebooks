{
 "cells": [
  {
   "cell_type": "code",
   "execution_count": null,
   "id": "quarterly-screw",
   "metadata": {},
   "outputs": [],
   "source": [
    "import string"
   ]
  },
  {
   "cell_type": "code",
   "execution_count": null,
   "id": "pregnant-buying",
   "metadata": {},
   "outputs": [],
   "source": [
    "def compute_cusip_check_digit(cusip):\n",
    "    cusip = cusip.upper()\n",
    "    # I and O are excluded to avoid confusion with 1 and 0\n",
    "    valid_characters = (string.ascii_uppercase.replace('I', '').replace('O', '') + \n",
    "                        '*@#' + string.digits)\n",
    "    \n",
    "    # Sanity checks on input string\n",
    "    if len(cusip) != 8:\n",
    "        raise Exception('Invalid CUSIP length, expecting 8 characters')\n",
    "    invalid_characters = list(set(list(cusip)) - set(list(valid_characters)))\n",
    "    if len(invalid_characters):\n",
    "        raise Exception(f\"The following invalid characters were included: {''.join(invalid_characters)}\")\n",
    "    \n",
    "    total = 0\n",
    "    for i in range(8):\n",
    "        # Get the nth character\n",
    "        nchar = cusip[i]\n",
    "        if nchar.isdigit():\n",
    "            v = int(nchar)\n",
    "        elif nchar.isalpha():\n",
    "            p = ord(nchar) - ord('A') + 1\n",
    "            v = p + 9\n",
    "        elif nchar == '*':\n",
    "            v = 36\n",
    "        elif nchar == '@':\n",
    "            v = 37\n",
    "        elif nchar == '#':\n",
    "            v = 38\n",
    "        \n",
    "        # i + 1 to match the algorithms expected character positioning (non-base zero)\n",
    "        if (i + 1) % 2 == 0:\n",
    "            v *= 2\n",
    "        \n",
    "        total = total + int(v / 10) + v % 10\n",
    "        \n",
    "    check_digit = (10 - (total  % 10)) % 10\n",
    "    return f'{cusip}{check_digit}'"
   ]
  },
  {
   "cell_type": "code",
   "execution_count": null,
   "id": "working-communist",
   "metadata": {},
   "outputs": [],
   "source": [
    "ticker_cusip_map = {'AAPL US': '03783310', 'CSCO US': '17275R10', 'GOOGL US': '38259P50',\n",
    "                    'MSFT US': '59491810', 'ORCL US': '68389X10'}\n",
    "for ticker, cusip in ticker_cusip_map.items():\n",
    "    print(f'Ticker: {ticker} - CUSIP: {compute_cusip_check_digit(cusip)}')"
   ]
  },
  {
   "cell_type": "code",
   "execution_count": null,
   "id": "registered-glory",
   "metadata": {},
   "outputs": [],
   "source": [
    "compute_cusip_check_digit(cusip='ABCDE1234')"
   ]
  },
  {
   "cell_type": "code",
   "execution_count": null,
   "id": "overall-photography",
   "metadata": {},
   "outputs": [],
   "source": [
    "compute_cusip_check_digit(cusip='03783$%!')"
   ]
  },
  {
   "cell_type": "code",
   "execution_count": null,
   "id": "sticky-lightning",
   "metadata": {},
   "outputs": [],
   "source": [
    "s = 'abc'"
   ]
  },
  {
   "cell_type": "code",
   "execution_count": null,
   "id": "dedicated-pulse",
   "metadata": {},
   "outputs": [],
   "source": [
    "s[1:3]"
   ]
  },
  {
   "cell_type": "code",
   "execution_count": null,
   "id": "promotional-stand",
   "metadata": {},
   "outputs": [],
   "source": [
    "x = ('A', 'B', 'C')"
   ]
  },
  {
   "cell_type": "code",
   "execution_count": null,
   "id": "lucky-riverside",
   "metadata": {},
   "outputs": [],
   "source": [
    "x = input('hello')"
   ]
  },
  {
   "cell_type": "code",
   "execution_count": null,
   "id": "deadly-unemployment",
   "metadata": {},
   "outputs": [],
   "source": [
    "input = 'test'"
   ]
  },
  {
   "cell_type": "code",
   "execution_count": null,
   "id": "hungry-amber",
   "metadata": {},
   "outputs": [],
   "source": [
    "test = 'This is a test 1'\n",
    "for c in test:\n",
    "    print(c.isalpha())"
   ]
  },
  {
   "cell_type": "code",
   "execution_count": null,
   "id": "center-microwave",
   "metadata": {},
   "outputs": [],
   "source": [
    "c.isalpha()"
   ]
  },
  {
   "cell_type": "code",
   "execution_count": null,
   "id": "together-roman",
   "metadata": {},
   "outputs": [],
   "source": []
  }
 ],
 "metadata": {
  "kernelspec": {
   "display_name": "Python 3",
   "language": "python",
   "name": "python3"
  },
  "language_info": {
   "codemirror_mode": {
    "name": "ipython",
    "version": 3
   },
   "file_extension": ".py",
   "mimetype": "text/x-python",
   "name": "python",
   "nbconvert_exporter": "python",
   "pygments_lexer": "ipython3",
   "version": "3.9.1rc1"
  }
 },
 "nbformat": 4,
 "nbformat_minor": 5
}
