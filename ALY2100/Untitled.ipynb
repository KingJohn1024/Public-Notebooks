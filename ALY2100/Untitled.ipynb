{
 "cells": [
  {
   "cell_type": "markdown",
   "id": "positive-worcester",
   "metadata": {},
   "source": [
    "## Recursion"
   ]
  },
  {
   "cell_type": "code",
   "execution_count": 1,
   "id": "simple-portuguese",
   "metadata": {},
   "outputs": [],
   "source": [
    "org_chart = {'President': \n",
    "             {'CEO': \n",
    "              {'Sales Director': \n",
    "               {'Northeast Sales Manager': None,\n",
    "                'Northwest Sales Manager': None,\n",
    "                'Southeast Sales Manger': None,\n",
    "                'Southwest Sales Manager': None}},\n",
    "              'CTO': \n",
    "              {'Engineering Director': \n",
    "               {'Sofware Engineering Manager': \n",
    "                {'Senior Software Engineer III': None, \n",
    "                 'Senior Software Engineer II': None,\n",
    "                 'Senior Software Engineer I': None},\n",
    "                'Systems Engineering Manager':\n",
    "                {'Lead Support Engineer': \n",
    "                 {'Junior Support Engineer II': None,\n",
    "                  'Junior Support Engineer': None},\n",
    "                 'Senior Support Engineer II': None,\n",
    "                 'Senior Support Engineer': None,\n",
    "                 'Support Engineer II': None,\n",
    "                 'Support Engineer I': None}},\n",
    "               'Data Director': None},\n",
    "              'CFO':\n",
    "              {'Finance Director': \n",
    "               {'Accountant II': None, \n",
    "                'Accountant I': None}}}}"
   ]
  },
  {
   "cell_type": "code",
   "execution_count": 2,
   "id": "painful-month",
   "metadata": {},
   "outputs": [
    {
     "data": {
      "text/html": [
       "<div>\n",
       "<style scoped>\n",
       "    .dataframe tbody tr th:only-of-type {\n",
       "        vertical-align: middle;\n",
       "    }\n",
       "\n",
       "    .dataframe tbody tr th {\n",
       "        vertical-align: top;\n",
       "    }\n",
       "\n",
       "    .dataframe thead th {\n",
       "        text-align: right;\n",
       "    }\n",
       "</style>\n",
       "<table border=\"1\" class=\"dataframe\">\n",
       "  <thead>\n",
       "    <tr style=\"text-align: right;\">\n",
       "      <th></th>\n",
       "      <th>Employee</th>\n",
       "      <th>Manager</th>\n",
       "      <th>Level</th>\n",
       "    </tr>\n",
       "  </thead>\n",
       "  <tbody>\n",
       "    <tr>\n",
       "      <th>0</th>\n",
       "      <td>President</td>\n",
       "      <td>None</td>\n",
       "      <td>0</td>\n",
       "    </tr>\n",
       "    <tr>\n",
       "      <th>1</th>\n",
       "      <td>CEO</td>\n",
       "      <td>President</td>\n",
       "      <td>1</td>\n",
       "    </tr>\n",
       "    <tr>\n",
       "      <th>2</th>\n",
       "      <td>CTO</td>\n",
       "      <td>President</td>\n",
       "      <td>1</td>\n",
       "    </tr>\n",
       "    <tr>\n",
       "      <th>3</th>\n",
       "      <td>CFO</td>\n",
       "      <td>President</td>\n",
       "      <td>1</td>\n",
       "    </tr>\n",
       "    <tr>\n",
       "      <th>4</th>\n",
       "      <td>Finance Director</td>\n",
       "      <td>CFO</td>\n",
       "      <td>2</td>\n",
       "    </tr>\n",
       "    <tr>\n",
       "      <th>5</th>\n",
       "      <td>Sales Director</td>\n",
       "      <td>CEO</td>\n",
       "      <td>2</td>\n",
       "    </tr>\n",
       "    <tr>\n",
       "      <th>6</th>\n",
       "      <td>Data Director</td>\n",
       "      <td>CTO</td>\n",
       "      <td>2</td>\n",
       "    </tr>\n",
       "    <tr>\n",
       "      <th>7</th>\n",
       "      <td>Engineering Director</td>\n",
       "      <td>CTO</td>\n",
       "      <td>2</td>\n",
       "    </tr>\n",
       "    <tr>\n",
       "      <th>8</th>\n",
       "      <td>Accountant I</td>\n",
       "      <td>Finance Director</td>\n",
       "      <td>3</td>\n",
       "    </tr>\n",
       "    <tr>\n",
       "      <th>9</th>\n",
       "      <td>Accountant II</td>\n",
       "      <td>Finance Director</td>\n",
       "      <td>3</td>\n",
       "    </tr>\n",
       "    <tr>\n",
       "      <th>10</th>\n",
       "      <td>Systems Engineering Manager</td>\n",
       "      <td>Engineering Director</td>\n",
       "      <td>3</td>\n",
       "    </tr>\n",
       "    <tr>\n",
       "      <th>11</th>\n",
       "      <td>Northeast Sales Manager</td>\n",
       "      <td>Sales Director</td>\n",
       "      <td>3</td>\n",
       "    </tr>\n",
       "    <tr>\n",
       "      <th>12</th>\n",
       "      <td>Sofware Engineering Manager</td>\n",
       "      <td>Engineering Director</td>\n",
       "      <td>3</td>\n",
       "    </tr>\n",
       "    <tr>\n",
       "      <th>13</th>\n",
       "      <td>Southwest Sales Manager</td>\n",
       "      <td>Sales Director</td>\n",
       "      <td>3</td>\n",
       "    </tr>\n",
       "    <tr>\n",
       "      <th>14</th>\n",
       "      <td>Southeast Sales Manger</td>\n",
       "      <td>Sales Director</td>\n",
       "      <td>3</td>\n",
       "    </tr>\n",
       "    <tr>\n",
       "      <th>15</th>\n",
       "      <td>Northwest Sales Manager</td>\n",
       "      <td>Sales Director</td>\n",
       "      <td>3</td>\n",
       "    </tr>\n",
       "    <tr>\n",
       "      <th>16</th>\n",
       "      <td>Senior Support Engineer II</td>\n",
       "      <td>Systems Engineering Manager</td>\n",
       "      <td>4</td>\n",
       "    </tr>\n",
       "    <tr>\n",
       "      <th>17</th>\n",
       "      <td>Senior Support Engineer</td>\n",
       "      <td>Systems Engineering Manager</td>\n",
       "      <td>4</td>\n",
       "    </tr>\n",
       "    <tr>\n",
       "      <th>18</th>\n",
       "      <td>Support Engineer II</td>\n",
       "      <td>Systems Engineering Manager</td>\n",
       "      <td>4</td>\n",
       "    </tr>\n",
       "    <tr>\n",
       "      <th>19</th>\n",
       "      <td>Support Engineer I</td>\n",
       "      <td>Systems Engineering Manager</td>\n",
       "      <td>4</td>\n",
       "    </tr>\n",
       "    <tr>\n",
       "      <th>20</th>\n",
       "      <td>Senior Software Engineer I</td>\n",
       "      <td>Sofware Engineering Manager</td>\n",
       "      <td>4</td>\n",
       "    </tr>\n",
       "    <tr>\n",
       "      <th>21</th>\n",
       "      <td>Senior Software Engineer II</td>\n",
       "      <td>Sofware Engineering Manager</td>\n",
       "      <td>4</td>\n",
       "    </tr>\n",
       "    <tr>\n",
       "      <th>22</th>\n",
       "      <td>Senior Software Engineer III</td>\n",
       "      <td>Sofware Engineering Manager</td>\n",
       "      <td>4</td>\n",
       "    </tr>\n",
       "    <tr>\n",
       "      <th>23</th>\n",
       "      <td>Lead Support Engineer</td>\n",
       "      <td>Systems Engineering Manager</td>\n",
       "      <td>4</td>\n",
       "    </tr>\n",
       "    <tr>\n",
       "      <th>24</th>\n",
       "      <td>Junior Support Engineer II</td>\n",
       "      <td>Lead Support Engineer</td>\n",
       "      <td>5</td>\n",
       "    </tr>\n",
       "    <tr>\n",
       "      <th>25</th>\n",
       "      <td>Junior Support Engineer</td>\n",
       "      <td>Lead Support Engineer</td>\n",
       "      <td>5</td>\n",
       "    </tr>\n",
       "  </tbody>\n",
       "</table>\n",
       "</div>"
      ],
      "text/plain": [
       "                        Employee                      Manager  Level\n",
       "0                      President                         None      0\n",
       "1                            CEO                    President      1\n",
       "2                            CTO                    President      1\n",
       "3                            CFO                    President      1\n",
       "4               Finance Director                          CFO      2\n",
       "5                 Sales Director                          CEO      2\n",
       "6                  Data Director                          CTO      2\n",
       "7           Engineering Director                          CTO      2\n",
       "8                   Accountant I             Finance Director      3\n",
       "9                  Accountant II             Finance Director      3\n",
       "10   Systems Engineering Manager         Engineering Director      3\n",
       "11       Northeast Sales Manager               Sales Director      3\n",
       "12   Sofware Engineering Manager         Engineering Director      3\n",
       "13       Southwest Sales Manager               Sales Director      3\n",
       "14        Southeast Sales Manger               Sales Director      3\n",
       "15       Northwest Sales Manager               Sales Director      3\n",
       "16    Senior Support Engineer II  Systems Engineering Manager      4\n",
       "17       Senior Support Engineer  Systems Engineering Manager      4\n",
       "18           Support Engineer II  Systems Engineering Manager      4\n",
       "19            Support Engineer I  Systems Engineering Manager      4\n",
       "20    Senior Software Engineer I  Sofware Engineering Manager      4\n",
       "21   Senior Software Engineer II  Sofware Engineering Manager      4\n",
       "22  Senior Software Engineer III  Sofware Engineering Manager      4\n",
       "23         Lead Support Engineer  Systems Engineering Manager      4\n",
       "24    Junior Support Engineer II        Lead Support Engineer      5\n",
       "25       Junior Support Engineer        Lead Support Engineer      5"
      ]
     },
     "execution_count": 2,
     "metadata": {},
     "output_type": "execute_result"
    }
   ],
   "source": [
    "def get_employee_hierarchy(org_tree, output=[], manager=None, level=0):\n",
    "    for k, v in org_tree.items():\n",
    "        if v is not None:\n",
    "            get_employee_hierarchy(org_tree=v, output=output, manager=k, level=level+1)\n",
    "        output.append([k, manager, level])\n",
    "    return output\n",
    "\n",
    "import pandas as pd\n",
    "pd.DataFrame(get_employee_hierarchy(org_tree=org_chart), \n",
    "             columns=['Employee', 'Manager', 'Level']).sort_values('Level').reset_index(drop=True)"
   ]
  },
  {
   "cell_type": "code",
   "execution_count": 15,
   "id": "excess-screw",
   "metadata": {},
   "outputs": [
    {
     "name": "stdout",
     "output_type": "stream",
     "text": [
      "----\n",
      "2 4\n",
      "----\n",
      "2 3\n",
      "----\n",
      "2 2\n",
      "----\n",
      "2 1\n",
      "hittt\n",
      "1\n"
     ]
    },
    {
     "data": {
      "text/plain": [
       "16"
      ]
     },
     "execution_count": 15,
     "metadata": {},
     "output_type": "execute_result"
    }
   ],
   "source": [
    "def power_of(x, y):\n",
    "    if y < 0:\n",
    "        raise ValueError('Negative Number' + str(y))\n",
    "    elif y == 0:\n",
    "        print('hittt')\n",
    "        print(1)\n",
    "        return 1\n",
    "    else:\n",
    "        print('----')\n",
    "        print(x, y)\n",
    "        return x * power_of(x, y-1)    \n",
    "power_of(2,4)"
   ]
  },
  {
   "cell_type": "code",
   "execution_count": 99,
   "id": "expressed-reggae",
   "metadata": {},
   "outputs": [],
   "source": [
    "def gcd(a, b, g):\n",
    "    if a == 0 or b == 0:\n",
    "        return max(a,b)\n",
    "    elif (a % g == 0 and b % g == 0):\n",
    "        return g\n",
    "    else:\n",
    "        return gcd(a=a, b=b, g=g-1)"
   ]
  },
  {
   "cell_type": "code",
   "execution_count": 100,
   "id": "homeless-conditioning",
   "metadata": {},
   "outputs": [
    {
     "data": {
      "text/plain": [
       "6"
      ]
     },
     "execution_count": 100,
     "metadata": {},
     "output_type": "execute_result"
    }
   ],
   "source": [
    "gcd(a=12, b=30, g=max(12, 30))"
   ]
  },
  {
   "cell_type": "code",
   "execution_count": 132,
   "id": "super-cassette",
   "metadata": {},
   "outputs": [],
   "source": [
    "def fib(n):\n",
    "    if n == 0:\n",
    "        return 0\n",
    "    elif n == 1:\n",
    "        return 1\n",
    "    else:\n",
    "        return fib(n-1) + fib(n-2)"
   ]
  },
  {
   "cell_type": "code",
   "execution_count": 174,
   "id": "postal-quilt",
   "metadata": {},
   "outputs": [
    {
     "name": "stdout",
     "output_type": "stream",
     "text": [
      "0\n",
      "1\n",
      "1\n",
      "2\n",
      "3\n",
      "5\n",
      "8\n",
      "13\n",
      "21\n",
      "34\n",
      "55\n",
      "89\n",
      "144\n",
      "233\n",
      "377\n",
      "610\n",
      "987\n",
      "1597\n",
      "2584\n",
      "4181\n"
     ]
    }
   ],
   "source": [
    "for i in range(20):\n",
    "    print(fib(i))"
   ]
  },
  {
   "cell_type": "code",
   "execution_count": 175,
   "id": "respiratory-chamber",
   "metadata": {},
   "outputs": [],
   "source": [
    "import string\n",
    "def is_palindrome(s):\n",
    "    def to_chars(s):\n",
    "        s = s.lower()\n",
    "        letters = ''\n",
    "        for c in s:\n",
    "            if c in string.ascii_lowercase:\n",
    "                letters = letters + c\n",
    "        return letters\n",
    "    \n",
    "    def is_pal(s):\n",
    "        if len(s) <= 1:\n",
    "            print('stop case')\n",
    "            return True\n",
    "        else:\n",
    "            print(f'checking {s[0]} for {s[-1]}')\n",
    "            return s[0] == s[-1] and is_pal(s[1:-1])\n",
    "    return is_pal(to_chars(s))"
   ]
  },
  {
   "cell_type": "code",
   "execution_count": 176,
   "id": "saving-simulation",
   "metadata": {},
   "outputs": [
    {
     "name": "stdout",
     "output_type": "stream",
     "text": [
      "checking r for r\n",
      "checking a for a\n",
      "checking c for c\n",
      "stop case\n"
     ]
    },
    {
     "data": {
      "text/plain": [
       "True"
      ]
     },
     "execution_count": 176,
     "metadata": {},
     "output_type": "execute_result"
    }
   ],
   "source": [
    "is_palindrome('racecar')"
   ]
  },
  {
   "cell_type": "code",
   "execution_count": 177,
   "id": "pregnant-moral",
   "metadata": {},
   "outputs": [
    {
     "name": "stdout",
     "output_type": "stream",
     "text": [
      "checking m for d\n"
     ]
    },
    {
     "data": {
      "text/plain": [
       "False"
      ]
     },
     "execution_count": 177,
     "metadata": {},
     "output_type": "execute_result"
    }
   ],
   "source": [
    "is_palindrome('mind')"
   ]
  },
  {
   "cell_type": "code",
   "execution_count": 195,
   "id": "necessary-contract",
   "metadata": {},
   "outputs": [
    {
     "name": "stdout",
     "output_type": "stream",
     "text": [
      "Target x? 1\n",
      "Target y? 1\n",
      "After N call ends 1 1 0 1 N \n",
      "base case 1 1 1 1 N E \n",
      "N E \n",
      "After E call ends 1 1 0 1 N \n",
      "After NE call ends 1 1 0 1 N \n",
      "After N call ends 1 1 0 0 \n",
      "base case 1 1 1 1 E N \n",
      "E N \n",
      "After N call ends 1 1 1 0 E \n",
      "After E call ends 1 1 1 0 E \n",
      "After NE call ends 1 1 1 0 E \n",
      "After E call ends 1 1 0 0 \n",
      "base case 1 1 1 1 NE \n",
      "NE \n",
      "After NE call ends 1 1 0 0 \n"
     ]
    }
   ],
   "source": [
    "from datetime import datetime\n",
    "def travel(tx, ty, x=0, y=0, path=''):\n",
    "    if x == tx and y == ty:\n",
    "        print('base case', tx, ty, x, y, path)\n",
    "        print(path)\n",
    "    elif x <= tx and y <= ty:\n",
    "        travel(tx, ty, x, y+1, path+'N ')\n",
    "        print('After N call ends', tx, ty, x, y, path)\n",
    "        travel(tx, ty, x+1, y, path+'E ')\n",
    "        \n",
    "        print('After E call ends', tx, ty, x, y, path)\n",
    "        travel(tx, ty, x+1, y+1, path+'NE ')\n",
    "        print('After NE call ends', tx, ty, x, y, path)\n",
    "def main():\n",
    "    tx = int(input('Target x? '))\n",
    "    ty = int(input('Target y? '))\n",
    "    travel(tx, ty)\n",
    "main()"
   ]
  },
  {
   "cell_type": "code",
   "execution_count": null,
   "id": "corrected-civilization",
   "metadata": {},
   "outputs": [],
   "source": []
  }
 ],
 "metadata": {
  "kernelspec": {
   "display_name": "Python 3",
   "language": "python",
   "name": "python3"
  },
  "language_info": {
   "codemirror_mode": {
    "name": "ipython",
    "version": 3
   },
   "file_extension": ".py",
   "mimetype": "text/x-python",
   "name": "python",
   "nbconvert_exporter": "python",
   "pygments_lexer": "ipython3",
   "version": "3.9.1rc1"
  }
 },
 "nbformat": 4,
 "nbformat_minor": 5
}
