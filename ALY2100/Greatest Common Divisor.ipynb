{
 "cells": [
  {
   "cell_type": "code",
   "execution_count": 268,
   "id": "synthetic-sociology",
   "metadata": {},
   "outputs": [],
   "source": [
    "import math"
   ]
  },
  {
   "cell_type": "code",
   "execution_count": 271,
   "id": "pregnant-prison",
   "metadata": {},
   "outputs": [],
   "source": [
    "def gcd(x, y):\n",
    "    \"\"\"\n",
    "    Greatest Common Divisor an implimentation of the Euclidean Algorithm\n",
    "    :param x: Integer x\n",
    "    :param y: Integer y\n",
    "    :return: The greatest common divisor between integers x and y\n",
    "    \"\"\"\n",
    "    if x == y:\n",
    "        return x\n",
    "    a = x\n",
    "    b = y\n",
    "    r = b\n",
    "    prior_r = a  # This catches the scenario of gcd(10, 0)\n",
    "    while r != 0:\n",
    "        prior_r = r\n",
    "        r = a % b\n",
    "        a = b\n",
    "        b = r\n",
    "    return prior_r"
   ]
  },
  {
   "cell_type": "code",
   "execution_count": 274,
   "id": "flexible-belize",
   "metadata": {},
   "outputs": [
    {
     "name": "stdout",
     "output_type": "stream",
     "text": [
      "27\n",
      "15\n",
      "3\n",
      "9\n",
      "10\n"
     ]
    }
   ],
   "source": [
    "print(gcd(135, 54))\n",
    "print(gcd(45, 105))\n",
    "print(gcd(1701, 3768))\n",
    "print(gcd(999, 99999))\n",
    "print(gcd(0, 10))"
   ]
  },
  {
   "cell_type": "code",
   "execution_count": 275,
   "id": "ecological-division",
   "metadata": {},
   "outputs": [
    {
     "name": "stdout",
     "output_type": "stream",
     "text": [
      "27\n",
      "15\n",
      "3\n",
      "9\n",
      "10\n"
     ]
    }
   ],
   "source": [
    "print(math.gcd(135, 54))\n",
    "print(math.gcd(45, 105))\n",
    "print(math.gcd(1701, 3768))\n",
    "print(math.gcd(999, 99999))\n",
    "print(math.gcd(10, 0))"
   ]
  },
  {
   "cell_type": "code",
   "execution_count": null,
   "id": "animal-poetry",
   "metadata": {},
   "outputs": [],
   "source": []
  }
 ],
 "metadata": {
  "kernelspec": {
   "display_name": "Python 3",
   "language": "python",
   "name": "python3"
  },
  "language_info": {
   "codemirror_mode": {
    "name": "ipython",
    "version": 3
   },
   "file_extension": ".py",
   "mimetype": "text/x-python",
   "name": "python",
   "nbconvert_exporter": "python",
   "pygments_lexer": "ipython3",
   "version": "3.9.1rc1"
  }
 },
 "nbformat": 4,
 "nbformat_minor": 5
}
