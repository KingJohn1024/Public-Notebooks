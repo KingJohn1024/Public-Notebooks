{
 "cells": [
  {
   "cell_type": "code",
   "execution_count": 1,
   "metadata": {},
   "outputs": [],
   "source": [
    "import pandas as pd\n",
    "import mysql.connector\n",
    "connection = mysql.connector.connect(host='mysql', database='ALY2100', user='ALY2100', password='homework')"
   ]
  },
  {
   "cell_type": "code",
   "execution_count": 2,
   "metadata": {},
   "outputs": [],
   "source": [
    "cursor = connection.cursor(dictionary=True)"
   ]
  },
  {
   "cell_type": "code",
   "execution_count": 9,
   "metadata": {},
   "outputs": [],
   "source": [
    "cursor.execute(f'drop table {table_name}')"
   ]
  },
  {
   "cell_type": "code",
   "execution_count": 10,
   "metadata": {},
   "outputs": [],
   "source": [
    "table_name = 'Users'\n",
    "ddl = f\"\"\"\n",
    "CREATE TABLE {table_name}(\n",
    "    UserId int NOT NULL AUTO_INCREMENT,\n",
    "    Username varchar(16) NOT NULL,\n",
    "    EEEEEmailAddress varchar(128) NOT NULL,\n",
    "    DateCreated timestamp NOT NULL DEFAULT CURRENT_TIMESTAMP,\n",
    "    DateModified timestamp NULL,\n",
    "PRIMARY KEY CLUSTERED ( UserId ASC ));\n",
    "\"\"\"\n",
    "table_def = f\"SELECT * FROM information_schema.tables WHERE table_name = '{table_name}';\"\n",
    "col_def = f\"SELECT * FROM information_schema.columns WHERE table_name = '{table_name}';\""
   ]
  },
  {
   "cell_type": "code",
   "execution_count": 11,
   "metadata": {},
   "outputs": [
    {
     "name": "stdout",
     "output_type": "stream",
     "text": [
      "['UserId', 'Username', 'EEEEEmailAddress', 'DateCreated', 'DateModified']\n"
     ]
    }
   ],
   "source": [
    "cursor.execute(table_def)\n",
    "cursor.fetchall()\n",
    "# If the table doesn't exist execute the Data Definition Language SQL\n",
    "if cursor.rowcount == 0:\n",
    "    cursor.execute(ddl)\n",
    "\n",
    "cursor.execute(col_def)\n",
    "cols = cursor.fetchall()\n",
    "print([x.get('COLUMN_NAME') for x in cols])"
   ]
  },
  {
   "cell_type": "code",
   "execution_count": 12,
   "metadata": {},
   "outputs": [
    {
     "name": "stdout",
     "output_type": "stream",
     "text": [
      "['UserId', 'Username', 'EmailAddress', 'DateCreated', 'DateModified']\n"
     ]
    }
   ],
   "source": [
    "ddl = f\"ALTER TABLE {table_name} CHANGE EEEEEmailAddress EmailAddress varchar(128);\"\n",
    "cursor.execute(ddl)\n",
    "cursor.execute(col_def)\n",
    "cols = cursor.fetchall()\n",
    "print([x.get('COLUMN_NAME') for x in cols])"
   ]
  },
  {
   "cell_type": "code",
   "execution_count": 13,
   "metadata": {},
   "outputs": [],
   "source": [
    "users = [('TheBride', 'Bride26@gmail.com'), ('GogoYubari', 'gogo@yahoo.com'), \n",
    "         ('ORenIshii', 'o.ren@outlook.com'), ('Bill', 'Bill@gates.com'), \n",
    "         ('HattoriHanzo', 'hh@gmail.com'), ('ElleDriver', 'edriver@yahoo.com')]\n",
    "dml = \"INSERT INTO Users (UserName, EmailAddress) VALUES (%s, %s)\""
   ]
  },
  {
   "cell_type": "code",
   "execution_count": 14,
   "metadata": {},
   "outputs": [],
   "source": [
    "cursor.executemany(dml, users)\n",
    "connection.commit()"
   ]
  },
  {
   "cell_type": "code",
   "execution_count": 15,
   "metadata": {},
   "outputs": [
    {
     "data": {
      "text/html": [
       "<div>\n",
       "<style scoped>\n",
       "    .dataframe tbody tr th:only-of-type {\n",
       "        vertical-align: middle;\n",
       "    }\n",
       "\n",
       "    .dataframe tbody tr th {\n",
       "        vertical-align: top;\n",
       "    }\n",
       "\n",
       "    .dataframe thead th {\n",
       "        text-align: right;\n",
       "    }\n",
       "</style>\n",
       "<table border=\"1\" class=\"dataframe\">\n",
       "  <thead>\n",
       "    <tr style=\"text-align: right;\">\n",
       "      <th></th>\n",
       "      <th>Username</th>\n",
       "      <th>EmailAddress</th>\n",
       "      <th>DateCreated</th>\n",
       "      <th>DateModified</th>\n",
       "    </tr>\n",
       "    <tr>\n",
       "      <th>UserId</th>\n",
       "      <th></th>\n",
       "      <th></th>\n",
       "      <th></th>\n",
       "      <th></th>\n",
       "    </tr>\n",
       "  </thead>\n",
       "  <tbody>\n",
       "    <tr>\n",
       "      <td>1</td>\n",
       "      <td>TheBride</td>\n",
       "      <td>Bride26@gmail.com</td>\n",
       "      <td>2021-03-19 16:17:18</td>\n",
       "      <td>None</td>\n",
       "    </tr>\n",
       "    <tr>\n",
       "      <td>2</td>\n",
       "      <td>GogoYubari</td>\n",
       "      <td>gogo@yahoo.com</td>\n",
       "      <td>2021-03-19 16:17:18</td>\n",
       "      <td>None</td>\n",
       "    </tr>\n",
       "    <tr>\n",
       "      <td>3</td>\n",
       "      <td>ORenIshii</td>\n",
       "      <td>o.ren@outlook.com</td>\n",
       "      <td>2021-03-19 16:17:18</td>\n",
       "      <td>None</td>\n",
       "    </tr>\n",
       "    <tr>\n",
       "      <td>4</td>\n",
       "      <td>Bill</td>\n",
       "      <td>Bill@gates.com</td>\n",
       "      <td>2021-03-19 16:17:18</td>\n",
       "      <td>None</td>\n",
       "    </tr>\n",
       "    <tr>\n",
       "      <td>5</td>\n",
       "      <td>HattoriHanzo</td>\n",
       "      <td>hh@gmail.com</td>\n",
       "      <td>2021-03-19 16:17:18</td>\n",
       "      <td>None</td>\n",
       "    </tr>\n",
       "    <tr>\n",
       "      <td>6</td>\n",
       "      <td>ElleDriver</td>\n",
       "      <td>edriver@yahoo.com</td>\n",
       "      <td>2021-03-19 16:17:18</td>\n",
       "      <td>None</td>\n",
       "    </tr>\n",
       "  </tbody>\n",
       "</table>\n",
       "</div>"
      ],
      "text/plain": [
       "            Username       EmailAddress         DateCreated DateModified\n",
       "UserId                                                                  \n",
       "1           TheBride  Bride26@gmail.com 2021-03-19 16:17:18         None\n",
       "2         GogoYubari     gogo@yahoo.com 2021-03-19 16:17:18         None\n",
       "3          ORenIshii  o.ren@outlook.com 2021-03-19 16:17:18         None\n",
       "4               Bill     Bill@gates.com 2021-03-19 16:17:18         None\n",
       "5       HattoriHanzo       hh@gmail.com 2021-03-19 16:17:18         None\n",
       "6         ElleDriver  edriver@yahoo.com 2021-03-19 16:17:18         None"
      ]
     },
     "execution_count": 15,
     "metadata": {},
     "output_type": "execute_result"
    }
   ],
   "source": [
    "sql = f\"SELECT * FROM {table_name};\"\n",
    "cursor.execute(sql)\n",
    "pd.DataFrame(cursor.fetchall()).set_index('UserId')"
   ]
  },
  {
   "cell_type": "code",
   "execution_count": null,
   "metadata": {},
   "outputs": [],
   "source": []
  }
 ],
 "metadata": {
  "kernelspec": {
   "display_name": "Python 3",
   "language": "python",
   "name": "python3"
  },
  "language_info": {
   "codemirror_mode": {
    "name": "ipython",
    "version": 3
   },
   "file_extension": ".py",
   "mimetype": "text/x-python",
   "name": "python",
   "nbconvert_exporter": "python",
   "pygments_lexer": "ipython3",
   "version": "3.7.4"
  }
 },
 "nbformat": 4,
 "nbformat_minor": 2
}
