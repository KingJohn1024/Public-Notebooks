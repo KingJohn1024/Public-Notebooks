{
 "cells": [
  {
   "cell_type": "markdown",
   "metadata": {},
   "source": [
    "<p>Expand your discussion post by revising the table you created and give a better explanation of its goals. Are there any other data points (columns/variables) that need to be added? Is there any other table you need to create? Consider normalization techniques and create at least one more table to be joined; Add more records, update at least one record, create counts, sum, and average, delete one or two records, in summary, apply all the statements you learned this week. Submit your explanation and the python code (ipynb). </p>"
   ]
  },
  {
   "attachments": {},
   "cell_type": "markdown",
   "metadata": {},
   "source": [
    "<hr />\n",
    "I stuck with my original example and expanded it as requested.  My assignment includes 3 tables, built following a data normalization pattern.  The three tables are:\n",
    "\n",
    "<ul>\n",
    "    <li>Users_jking</li>\n",
    "    <li>TransactionTypes_jking</li>\n",
    "    <li>UserTransactions_jking</li>\n",
    "</ul>\n",
    "\n",
    "To avoid duplication of TSQL execution patterns I created the exec_tsql helper function.  I ran into frustrating issues with the MySQL connector version, executing multi statements and Python 3.7.  I was ultimately able to get it to work with a workaround that didn't require changes to connector version.  I wrote logic to generate random data and fill the user transaction table.  I then illustrate common CRUD operations such as update and delete.  Finally, I wrote an aggregate statistics query to illustrate how to pull all of the data together."
   ]
  },
  {
   "cell_type": "code",
   "execution_count": 1,
   "metadata": {},
   "outputs": [
    {
     "name": "stdout",
     "output_type": "stream",
     "text": [
      "MySQL Connector version: 2.2.9\n"
     ]
    }
   ],
   "source": [
    "import random\n",
    "import pandas as pd\n",
    "from mysql import connector\n",
    "from mysql.connector import connect\n",
    "from mysql.connector.connection import MySQLConnection\n",
    "connection = connect(host='mysql', database='ALY2100', user='ALY2100', password='homework')\n",
    "print(f'MySQL Connector version: {connector.__version__}')"
   ]
  },
  {
   "cell_type": "code",
   "execution_count": 2,
   "metadata": {},
   "outputs": [],
   "source": [
    "def exec_tsql(tsql, connection, values=None, use_multi=False):\n",
    "    \"\"\"\n",
    "    Generic execute tsql helper\n",
    "    :param tsql: String Structured Query Language statement\n",
    "    :param connection: MySQLConnection object\n",
    "    :param values: List of tuples to be used with Data Manipulation Language type statements\n",
    "    :param use_multi: Boolean value indicating if the tsql statement contains multiple statements\n",
    "    :return: Boolean value indicating success\n",
    "    \"\"\"    \n",
    "    # Check that the connection parameter is the expected object type\n",
    "    if not isinstance(connection, MySQLConnection):\n",
    "        print(f'connection object must be {MySQLConnection}')\n",
    "        return False\n",
    "    \n",
    "    # Open the connection object if it's currently closed\n",
    "    if not connection.is_connected():\n",
    "        connection.connect()\n",
    "        \n",
    "    # Create the generic cursor object\n",
    "    cursor = connection.cursor()\n",
    "    \n",
    "    # Exectue the table create DDL and commit, rolling back the transaction if failed\n",
    "    try:\n",
    "        # If values is not None the use execute manay, passing in tsql and values\n",
    "        if values:\n",
    "            cursor.executemany(tsql, values)\n",
    "        else:\n",
    "            # execute() returns an iterator when multi=True and queries are not processed, \n",
    "            # regardless of the commit(), call until the iterator has been processed.\n",
    "            # Create statements produce no results and result in an exception processing the iterator!\n",
    "            # This is related to a bug in the connector module and has been fixed in version 8.0.13 \n",
    "            # with support of python 3.7.\n",
    "            # https://stackoverflow.com/questions/54987200/mysql-connector-cursor-execute-proceeds-silently-but-makes-no-changes-despite\n",
    "            results = cursor.execute(tsql, multi=use_multi)\n",
    "            try:\n",
    "                for result in results:\n",
    "                    pass\n",
    "            except Exception as e:\n",
    "                pass\n",
    "        # Commit the transaction and return True\n",
    "        connection.commit()\n",
    "        return True\n",
    "    except Exception as e:\n",
    "        # Display the error on exception, rollback the transaction and return False\n",
    "        print(f'ERROR: {e}')\n",
    "        connection.rollback()\n",
    "        return False"
   ]
  },
  {
   "cell_type": "code",
   "execution_count": 3,
   "metadata": {},
   "outputs": [
    {
     "data": {
      "text/plain": [
       "True"
      ]
     },
     "execution_count": 3,
     "metadata": {},
     "output_type": "execute_result"
    }
   ],
   "source": [
    "# Generate the Users table DDL and create it via the exec_tsql function\n",
    "table_name = 'Users_jking'\n",
    "table_ddl = f\"\"\"\n",
    "DROP TABLE IF EXISTS {table_name};\n",
    "CREATE TABLE {table_name}(\n",
    "    UserId int NOT NULL AUTO_INCREMENT,\n",
    "    Username varchar(16) NOT NULL,\n",
    "    EmailAddress varchar(128) NOT NULL,\n",
    "    DateCreated timestamp NOT NULL DEFAULT CURRENT_TIMESTAMP,\n",
    "    DateModified timestamp NULL,\n",
    "PRIMARY KEY CLUSTERED ( UserId ASC ));\n",
    "\"\"\"\n",
    "exec_tsql(tsql=table_ddl, connection=connection, use_multi=True)"
   ]
  },
  {
   "cell_type": "code",
   "execution_count": 4,
   "metadata": {},
   "outputs": [
    {
     "data": {
      "text/plain": [
       "True"
      ]
     },
     "execution_count": 4,
     "metadata": {},
     "output_type": "execute_result"
    }
   ],
   "source": [
    "# Generate the Users data DML and add it via the exec_tsql function\n",
    "users = [('TheBride', 'Bride26@gmail.com'), ('GogoYubari', 'gogo@yahoo.com'), \n",
    "         ('ORenIshii', 'o.ren@outlook.com'), ('Bill', 'Bill@gates.com'), \n",
    "         ('HattoriHanzo', 'hh@gmail.com'), ('ElleDriver', 'edriver@yahoo.com')]\n",
    "dml = f\"INSERT INTO {table_name} (UserName, EmailAddress) VALUES (%s, %s)\"\n",
    "exec_tsql(tsql=dml, connection=connection, values=users, use_multi=True)"
   ]
  },
  {
   "cell_type": "code",
   "execution_count": 5,
   "metadata": {},
   "outputs": [
    {
     "data": {
      "text/plain": [
       "True"
      ]
     },
     "execution_count": 5,
     "metadata": {},
     "output_type": "execute_result"
    }
   ],
   "source": [
    "# Generate the TransactionTypes table DDL and create it via the create_table function\n",
    "table_name = 'TransactionTypes_jking'\n",
    "table_ddl = f\"\"\"\n",
    "drop table if exists {table_name};\n",
    "CREATE TABLE {table_name}(\n",
    "    TransactionTypeId int NOT NULL AUTO_INCREMENT,\n",
    "    TransactionType varchar(128) NOT NULL,\n",
    "    DateCreated timestamp NOT NULL DEFAULT CURRENT_TIMESTAMP,\n",
    "    DateModified timestamp NULL,\n",
    "PRIMARY KEY CLUSTERED ( TransactionTypeId ASC ));\n",
    "\"\"\"\n",
    "exec_tsql(tsql=table_ddl, connection=connection, use_multi=True)"
   ]
  },
  {
   "cell_type": "code",
   "execution_count": 6,
   "metadata": {},
   "outputs": [
    {
     "data": {
      "text/plain": [
       "True"
      ]
     },
     "execution_count": 6,
     "metadata": {},
     "output_type": "execute_result"
    }
   ],
   "source": [
    "# Generate the TransactionTypes data DML and add it via the create_table function\n",
    "transaction_types = [('Create', ), ('Read', ), ('Update', ), ('Delete', )]\n",
    "dml = f\"INSERT INTO {table_name} (TransactionType) VALUES (%s)\"\n",
    "exec_tsql(tsql=dml, connection=connection, values=transaction_types)"
   ]
  },
  {
   "cell_type": "code",
   "execution_count": 7,
   "metadata": {},
   "outputs": [
    {
     "data": {
      "text/plain": [
       "True"
      ]
     },
     "execution_count": 7,
     "metadata": {},
     "output_type": "execute_result"
    }
   ],
   "source": [
    "# Generate the UserTransactions table DDL and create it via the create_table function\n",
    "table_name = 'UserTransactions_jking'\n",
    "table_ddl = f\"\"\"\n",
    "drop table if exists {table_name};\n",
    "CREATE TABLE {table_name}(\n",
    "    UserTransactionsId int NOT NULL AUTO_INCREMENT,\n",
    "    UserId int NOT NULL,\n",
    "    TransactionTypeId INT NOT NULL,\n",
    "    TransactionSize int NOT NULL,\n",
    "    DateCreated timestamp NOT NULL DEFAULT CURRENT_TIMESTAMP,\n",
    "    DateModified timestamp NULL,\n",
    "PRIMARY KEY CLUSTERED ( UserTransactionsId ASC ));\n",
    "\"\"\"\n",
    "exec_tsql(tsql=table_ddl, connection=connection, use_multi=True)"
   ]
  },
  {
   "cell_type": "code",
   "execution_count": 8,
   "metadata": {},
   "outputs": [],
   "source": [
    "# Generate the UserTransactions data DML and add it via the create_table function\n",
    "# Generate two lists matching the auto increment PK values and a random list of size values\n",
    "user_ids = [x for x in range(1,7)]\n",
    "trans_type_ids = [x for x in range(1,5)]\n",
    "trans_size = [x for x in range(24, 1026, 2)]\n",
    "\n",
    "# Generate the insert statement\n",
    "dml = f\"INSERT INTO {table_name} (UserId, TransactionTypeId, TransactionSize) VALUES (%s, %s, %s)\"\n",
    "# Simulate 100 User Transaction records, with random user and transaction type\n",
    "for i in range(0, 100):\n",
    "    random.shuffle(user_ids)\n",
    "    random.shuffle(trans_type_ids)\n",
    "    random.shuffle(trans_size)\n",
    "    # Build a list of randomly select tuples for the values\n",
    "    transaction_types = [(user_ids[0], trans_type_ids[0], trans_size[0])]\n",
    "    exec_tsql(tsql=dml, connection=connection, values=transaction_types)"
   ]
  },
  {
   "cell_type": "code",
   "execution_count": 9,
   "metadata": {},
   "outputs": [
    {
     "name": "stdout",
     "output_type": "stream",
     "text": [
      "            Username       EmailAddress         DateCreated DateModified\n",
      "UserId                                                                  \n",
      "1           TheBride  Bride26@gmail.com 2021-03-20 13:26:41         None\n",
      "2         GogoYubari     gogo@yahoo.com 2021-03-20 13:26:41         None\n",
      "3          ORenIshii  o.ren@outlook.com 2021-03-20 13:26:41         None\n",
      "4               Bill     Bill@gates.com 2021-03-20 13:26:41         None\n",
      "5       HattoriHanzo       hh@gmail.com 2021-03-20 13:26:41         None\n",
      "6         ElleDriver  edriver@yahoo.com 2021-03-20 13:26:41         None\n",
      "            Username       EmailAddress         DateCreated DateModified\n",
      "UserId                                                                  \n",
      "1           TheBride  Bride26@gmail.com 2021-03-20 13:26:41         None\n",
      "2         GogoYubari     gogo@yahoo.com 2021-03-20 13:26:41         None\n",
      "3          ORenIshii  o.ren@outlook.com 2021-03-20 13:26:41         None\n",
      "4              jking     Bill@gates.com 2021-03-20 13:26:41         None\n",
      "5       HattoriHanzo       hh@gmail.com 2021-03-20 13:26:41         None\n",
      "6         ElleDriver  edriver@yahoo.com 2021-03-20 13:26:41         None\n"
     ]
    }
   ],
   "source": [
    "########################################################\n",
    "# Update user Bill to Jking\n",
    "cursor = connection.cursor(dictionary=True)\n",
    "\n",
    "# Generate the update statement\n",
    "update = \"UPDATE Users_jking SET Username = 'jking' WHERE Username = 'Bill'\"\n",
    "cursor.execute(f'select * from Users_jking')\n",
    "\n",
    "# Print the before values\n",
    "print(pd.DataFrame(cursor.fetchall()).set_index('UserId'))\n",
    "\n",
    "# Execute the update statement\n",
    "exec_tsql(tsql=update, connection=connection)\n",
    "\n",
    "# Print the after values\n",
    "cursor.execute(f'select * from Users_jking')\n",
    "print(pd.DataFrame(cursor.fetchall()).set_index('UserId'))"
   ]
  },
  {
   "cell_type": "code",
   "execution_count": 10,
   "metadata": {},
   "outputs": [
    {
     "name": "stdout",
     "output_type": "stream",
     "text": [
      "            Username       EmailAddress         DateCreated DateModified\n",
      "UserId                                                                  \n",
      "1           TheBride  Bride26@gmail.com 2021-03-20 13:26:41         None\n",
      "2         GogoYubari     gogo@yahoo.com 2021-03-20 13:26:41         None\n",
      "3          ORenIshii  o.ren@outlook.com 2021-03-20 13:26:41         None\n",
      "4              jking     Bill@gates.com 2021-03-20 13:26:41         None\n",
      "5       HattoriHanzo       hh@gmail.com 2021-03-20 13:26:41         None\n",
      "6         ElleDriver  edriver@yahoo.com 2021-03-20 13:26:41         None\n",
      "            Username       EmailAddress         DateCreated DateModified\n",
      "UserId                                                                  \n",
      "1           TheBride  Bride26@gmail.com 2021-03-20 13:26:41         None\n",
      "2         GogoYubari     gogo@yahoo.com 2021-03-20 13:26:41         None\n",
      "3          ORenIshii  o.ren@outlook.com 2021-03-20 13:26:41         None\n",
      "5       HattoriHanzo       hh@gmail.com 2021-03-20 13:26:41         None\n",
      "6         ElleDriver  edriver@yahoo.com 2021-03-20 13:26:41         None\n"
     ]
    }
   ],
   "source": [
    "########################################################\n",
    "# Delete user Jking\n",
    "cursor = connection.cursor(dictionary=True)\n",
    "\n",
    "# Generate the delete statement\n",
    "update = \"DELETE FROM Users_jking WHERE Username = 'jking'\"\n",
    "cursor.execute(f'select * from Users_jking')\n",
    "\n",
    "# Print the before values\n",
    "print(pd.DataFrame(cursor.fetchall()).set_index('UserId'))\n",
    "\n",
    "# Execute the update statement\n",
    "exec_tsql(tsql=update, connection=connection)\n",
    "\n",
    "# Print the after values\n",
    "cursor.execute(f'select * from Users_jking')\n",
    "print(pd.DataFrame(cursor.fetchall()).set_index('UserId'))"
   ]
  },
  {
   "cell_type": "code",
   "execution_count": 11,
   "metadata": {},
   "outputs": [
    {
     "data": {
      "text/html": [
       "<div>\n",
       "<style scoped>\n",
       "    .dataframe tbody tr th:only-of-type {\n",
       "        vertical-align: middle;\n",
       "    }\n",
       "\n",
       "    .dataframe tbody tr th {\n",
       "        vertical-align: top;\n",
       "    }\n",
       "\n",
       "    .dataframe thead th {\n",
       "        text-align: right;\n",
       "    }\n",
       "</style>\n",
       "<table border=\"1\" class=\"dataframe\">\n",
       "  <thead>\n",
       "    <tr style=\"text-align: right;\">\n",
       "      <th></th>\n",
       "      <th>UserName</th>\n",
       "      <th>TransactionType</th>\n",
       "      <th>TransactionCount</th>\n",
       "      <th>TotalTransactionSize</th>\n",
       "      <th>AverageTransactionSize</th>\n",
       "    </tr>\n",
       "  </thead>\n",
       "  <tbody>\n",
       "    <tr>\n",
       "      <td>0</td>\n",
       "      <td>ElleDriver</td>\n",
       "      <td>Create</td>\n",
       "      <td>2</td>\n",
       "      <td>1344</td>\n",
       "      <td>672.0000</td>\n",
       "    </tr>\n",
       "    <tr>\n",
       "      <td>1</td>\n",
       "      <td>ElleDriver</td>\n",
       "      <td>Delete</td>\n",
       "      <td>3</td>\n",
       "      <td>1144</td>\n",
       "      <td>381.3333</td>\n",
       "    </tr>\n",
       "    <tr>\n",
       "      <td>2</td>\n",
       "      <td>ElleDriver</td>\n",
       "      <td>Read</td>\n",
       "      <td>4</td>\n",
       "      <td>3830</td>\n",
       "      <td>957.5000</td>\n",
       "    </tr>\n",
       "    <tr>\n",
       "      <td>3</td>\n",
       "      <td>ElleDriver</td>\n",
       "      <td>Update</td>\n",
       "      <td>6</td>\n",
       "      <td>2960</td>\n",
       "      <td>493.3333</td>\n",
       "    </tr>\n",
       "    <tr>\n",
       "      <td>4</td>\n",
       "      <td>GogoYubari</td>\n",
       "      <td>Create</td>\n",
       "      <td>5</td>\n",
       "      <td>3172</td>\n",
       "      <td>634.4000</td>\n",
       "    </tr>\n",
       "    <tr>\n",
       "      <td>5</td>\n",
       "      <td>GogoYubari</td>\n",
       "      <td>Delete</td>\n",
       "      <td>5</td>\n",
       "      <td>1924</td>\n",
       "      <td>384.8000</td>\n",
       "    </tr>\n",
       "    <tr>\n",
       "      <td>6</td>\n",
       "      <td>GogoYubari</td>\n",
       "      <td>Read</td>\n",
       "      <td>3</td>\n",
       "      <td>1542</td>\n",
       "      <td>514.0000</td>\n",
       "    </tr>\n",
       "    <tr>\n",
       "      <td>7</td>\n",
       "      <td>GogoYubari</td>\n",
       "      <td>Update</td>\n",
       "      <td>2</td>\n",
       "      <td>1088</td>\n",
       "      <td>544.0000</td>\n",
       "    </tr>\n",
       "    <tr>\n",
       "      <td>8</td>\n",
       "      <td>HattoriHanzo</td>\n",
       "      <td>Create</td>\n",
       "      <td>1</td>\n",
       "      <td>110</td>\n",
       "      <td>110.0000</td>\n",
       "    </tr>\n",
       "    <tr>\n",
       "      <td>9</td>\n",
       "      <td>HattoriHanzo</td>\n",
       "      <td>Delete</td>\n",
       "      <td>6</td>\n",
       "      <td>1214</td>\n",
       "      <td>202.3333</td>\n",
       "    </tr>\n",
       "    <tr>\n",
       "      <td>10</td>\n",
       "      <td>HattoriHanzo</td>\n",
       "      <td>Read</td>\n",
       "      <td>6</td>\n",
       "      <td>2774</td>\n",
       "      <td>462.3333</td>\n",
       "    </tr>\n",
       "    <tr>\n",
       "      <td>11</td>\n",
       "      <td>HattoriHanzo</td>\n",
       "      <td>Update</td>\n",
       "      <td>4</td>\n",
       "      <td>1724</td>\n",
       "      <td>431.0000</td>\n",
       "    </tr>\n",
       "    <tr>\n",
       "      <td>12</td>\n",
       "      <td>ORenIshii</td>\n",
       "      <td>Create</td>\n",
       "      <td>5</td>\n",
       "      <td>2826</td>\n",
       "      <td>565.2000</td>\n",
       "    </tr>\n",
       "    <tr>\n",
       "      <td>13</td>\n",
       "      <td>ORenIshii</td>\n",
       "      <td>Delete</td>\n",
       "      <td>3</td>\n",
       "      <td>302</td>\n",
       "      <td>100.6667</td>\n",
       "    </tr>\n",
       "    <tr>\n",
       "      <td>14</td>\n",
       "      <td>ORenIshii</td>\n",
       "      <td>Read</td>\n",
       "      <td>2</td>\n",
       "      <td>1144</td>\n",
       "      <td>572.0000</td>\n",
       "    </tr>\n",
       "    <tr>\n",
       "      <td>15</td>\n",
       "      <td>ORenIshii</td>\n",
       "      <td>Update</td>\n",
       "      <td>4</td>\n",
       "      <td>2342</td>\n",
       "      <td>585.5000</td>\n",
       "    </tr>\n",
       "    <tr>\n",
       "      <td>16</td>\n",
       "      <td>TheBride</td>\n",
       "      <td>Create</td>\n",
       "      <td>6</td>\n",
       "      <td>3800</td>\n",
       "      <td>633.3333</td>\n",
       "    </tr>\n",
       "    <tr>\n",
       "      <td>17</td>\n",
       "      <td>TheBride</td>\n",
       "      <td>Delete</td>\n",
       "      <td>4</td>\n",
       "      <td>2502</td>\n",
       "      <td>625.5000</td>\n",
       "    </tr>\n",
       "    <tr>\n",
       "      <td>18</td>\n",
       "      <td>TheBride</td>\n",
       "      <td>Read</td>\n",
       "      <td>2</td>\n",
       "      <td>1174</td>\n",
       "      <td>587.0000</td>\n",
       "    </tr>\n",
       "    <tr>\n",
       "      <td>19</td>\n",
       "      <td>TheBride</td>\n",
       "      <td>Update</td>\n",
       "      <td>7</td>\n",
       "      <td>4754</td>\n",
       "      <td>679.1429</td>\n",
       "    </tr>\n",
       "  </tbody>\n",
       "</table>\n",
       "</div>"
      ],
      "text/plain": [
       "        UserName TransactionType  TransactionCount TotalTransactionSize  \\\n",
       "0     ElleDriver          Create                 2                 1344   \n",
       "1     ElleDriver          Delete                 3                 1144   \n",
       "2     ElleDriver            Read                 4                 3830   \n",
       "3     ElleDriver          Update                 6                 2960   \n",
       "4     GogoYubari          Create                 5                 3172   \n",
       "5     GogoYubari          Delete                 5                 1924   \n",
       "6     GogoYubari            Read                 3                 1542   \n",
       "7     GogoYubari          Update                 2                 1088   \n",
       "8   HattoriHanzo          Create                 1                  110   \n",
       "9   HattoriHanzo          Delete                 6                 1214   \n",
       "10  HattoriHanzo            Read                 6                 2774   \n",
       "11  HattoriHanzo          Update                 4                 1724   \n",
       "12     ORenIshii          Create                 5                 2826   \n",
       "13     ORenIshii          Delete                 3                  302   \n",
       "14     ORenIshii            Read                 2                 1144   \n",
       "15     ORenIshii          Update                 4                 2342   \n",
       "16      TheBride          Create                 6                 3800   \n",
       "17      TheBride          Delete                 4                 2502   \n",
       "18      TheBride            Read                 2                 1174   \n",
       "19      TheBride          Update                 7                 4754   \n",
       "\n",
       "   AverageTransactionSize  \n",
       "0                672.0000  \n",
       "1                381.3333  \n",
       "2                957.5000  \n",
       "3                493.3333  \n",
       "4                634.4000  \n",
       "5                384.8000  \n",
       "6                514.0000  \n",
       "7                544.0000  \n",
       "8                110.0000  \n",
       "9                202.3333  \n",
       "10               462.3333  \n",
       "11               431.0000  \n",
       "12               565.2000  \n",
       "13               100.6667  \n",
       "14               572.0000  \n",
       "15               585.5000  \n",
       "16               633.3333  \n",
       "17               625.5000  \n",
       "18               587.0000  \n",
       "19               679.1429  "
      ]
     },
     "execution_count": 11,
     "metadata": {},
     "output_type": "execute_result"
    }
   ],
   "source": [
    "########################################################\n",
    "# Aggregate statistics\n",
    "# Generate the SQL\n",
    "sql = \"\"\"\n",
    "select\n",
    "    u.UserName,\n",
    "    tt.TransactionType,\n",
    "    count(1) as TransactionCount,\n",
    "    sum(ut.TransactionSize) as TotalTransactionSize,\n",
    "    avg(ut.TransactionSize) as AverageTransactionSize\n",
    "from Users_jking u\n",
    "inner join UserTransactions_jking ut on\n",
    "    ut.UserId = u.UserID\n",
    "inner join TransactionTypes_jking tt on\n",
    "    tt.TransactionTypeId = ut.TransactionTypeId\n",
    "group by u.UserName, tt.TransactionType\n",
    "\"\"\"\n",
    "# Execute the SQL and return the results as a dataframe for readability\n",
    "cursor = connection.cursor(dictionary=True)\n",
    "cursor.execute(sql)\n",
    "df = pd.DataFrame(cursor.fetchall())\n",
    "df"
   ]
  },
  {
   "cell_type": "code",
   "execution_count": null,
   "metadata": {},
   "outputs": [],
   "source": []
  }
 ],
 "metadata": {
  "kernelspec": {
   "display_name": "Python 3",
   "language": "python",
   "name": "python3"
  },
  "language_info": {
   "codemirror_mode": {
    "name": "ipython",
    "version": 3
   },
   "file_extension": ".py",
   "mimetype": "text/x-python",
   "name": "python",
   "nbconvert_exporter": "python",
   "pygments_lexer": "ipython3",
   "version": "3.7.4"
  }
 },
 "nbformat": 4,
 "nbformat_minor": 2
}
