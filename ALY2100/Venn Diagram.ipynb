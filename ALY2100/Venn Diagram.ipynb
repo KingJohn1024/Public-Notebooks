{
 "cells": [
  {
   "cell_type": "code",
   "execution_count": 125,
   "id": "hidden-coordinator",
   "metadata": {},
   "outputs": [],
   "source": [
    "import random\n",
    "clubs = ['Arsenal', 'Tottenham', 'Chelsea', 'West Ham United', 'Manchester United', 'Liverpool', 'Everton', 'Manchester City']\n",
    "random.shuffle(clubs)\n",
    "group_a = random.choices(population=clubs[3:], k=50)\n",
    "group_b = random.choices(population=clubs[0:6], k=50)"
   ]
  },
  {
   "cell_type": "code",
   "execution_count": 110,
   "id": "scientific-spring",
   "metadata": {},
   "outputs": [
    {
     "name": "stdout",
     "output_type": "stream",
     "text": [
      "16\n"
     ]
    }
   ],
   "source": [
    "left_only = set(group_a).difference(set(group_b))\n",
    "left_totals = dict()\n",
    "for x in list(left_only):\n",
    "    left_totals[x] = group_a.count(x)\n",
    "left_sum = sum(left_totals.values())\n",
    "print(left_sum)"
   ]
  },
  {
   "cell_type": "code",
   "execution_count": 111,
   "id": "coordinate-bunny",
   "metadata": {},
   "outputs": [
    {
     "name": "stdout",
     "output_type": "stream",
     "text": [
      "28\n"
     ]
    }
   ],
   "source": [
    "right_only = set(group_b).difference(set(group_a))\n",
    "right_totals = dict()\n",
    "for x in list(right_only):\n",
    "    right_totals[x] = group_b.count(x)\n",
    "right_sum = sum(right_totals.values())\n",
    "print(right_sum)"
   ]
  },
  {
   "cell_type": "code",
   "execution_count": 113,
   "id": "straight-slovakia",
   "metadata": {},
   "outputs": [
    {
     "name": "stdout",
     "output_type": "stream",
     "text": [
      "{'Arsenal': 16, 'West Ham United': 24, 'Manchester City': 16}\n",
      "56\n"
     ]
    }
   ],
   "source": [
    "both = set(group_a).intersection(set(group_b))\n",
    "both_totals = dict()\n",
    "for x in list(both):\n",
    "    both_totals[x] = (group_a + group_b).count(x)\n",
    "print(both_totals)\n",
    "both_sum = sum(both_totals.values())\n",
    "print(both_sum)"
   ]
  },
  {
   "cell_type": "code",
   "execution_count": 124,
   "id": "german-prospect",
   "metadata": {},
   "outputs": [
    {
     "name": "stdout",
     "output_type": "stream",
     "text": [
      "\n",
      "---------------\n",
      "| 16 | 56 | 28|\n",
      "---------------\n",
      "\n"
     ]
    }
   ],
   "source": [
    "venn = f\"\"\"\n",
    "---------------\n",
    "| {left_sum} | {both_sum} | {right_sum}|\n",
    "---------------\n",
    "\"\"\"\n",
    "print(venn)"
   ]
  },
  {
   "cell_type": "code",
   "execution_count": null,
   "id": "graphic-thinking",
   "metadata": {},
   "outputs": [],
   "source": []
  }
 ],
 "metadata": {
  "kernelspec": {
   "display_name": "Python 3",
   "language": "python",
   "name": "python3"
  },
  "language_info": {
   "codemirror_mode": {
    "name": "ipython",
    "version": 3
   },
   "file_extension": ".py",
   "mimetype": "text/x-python",
   "name": "python",
   "nbconvert_exporter": "python",
   "pygments_lexer": "ipython3",
   "version": "3.9.1rc1"
  }
 },
 "nbformat": 4,
 "nbformat_minor": 5
}
