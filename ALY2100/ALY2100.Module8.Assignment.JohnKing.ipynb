{
 "cells": [
  {
   "cell_type": "markdown",
   "id": "dynamic-temperature",
   "metadata": {},
   "source": [
    "Load the JSON file below into Python as a dictionary; convert to a list and calculate the maximum velocity and maximum height using recursion.\n",
    "<br /><br />\n",
    "This is partial data from the space mission Jason-3, flight number 26\n",
    "<br /><br />\n",
    "<a href='https://northeastern.instructure.com/courses/66868/files/8349751?wrap=1'>telemetry.json</a>\n",
    "<br /><br />\n",
    "<b><font color='orange'>Use everything you have learned so far, no need to create a CLASS if there is no need for one.  Make sure you explain your solution and comment on your code.</font></b>"
   ]
  },
  {
   "cell_type": "markdown",
   "id": "accessory-reverse",
   "metadata": {},
   "source": [
    "<hr />"
   ]
  },
  {
   "attachments": {},
   "cell_type": "markdown",
   "id": "cloudy-inflation",
   "metadata": {},
   "source": [
    "<p>My solution reads the downloaded json file and decodes it to a dictionary.  I then created lists of values for each velocity and altitude.  Finally I've implemented a recursive get_max() function that calculates the maximum value of a given input list using recursion.  It's worth noting that I ran into issues with recursion depth, so I adjust the recursion limits based on the size of each input list to avoid recursion depth limit exceptions.</p>"
   ]
  },
  {
   "cell_type": "code",
   "execution_count": 1,
   "id": "first-director",
   "metadata": {},
   "outputs": [],
   "source": [
    "import os\n",
    "import sys\n",
    "import json"
   ]
  },
  {
   "cell_type": "code",
   "execution_count": 2,
   "id": "julian-trout",
   "metadata": {},
   "outputs": [],
   "source": [
    "class Helper(object):\n",
    "\n",
    "    @staticmethod\n",
    "    def file_exists(file_path):\n",
    "        \"\"\"\n",
    "        File exists check\n",
    "        :param file_path: String full path to the file\n",
    "        :return: Boolean value indicating if the file exists or not\n",
    "        \"\"\"\n",
    "        return os.path.exists(file_path)\n",
    "    \n",
    "    @staticmethod\n",
    "    def write_file(file_path, file_text):\n",
    "        \"\"\"\n",
    "        Write file to disk\n",
    "        :param file_path: String full path to the file\n",
    "        :param file_text: String value to write to the file\n",
    "        :return: Boolean value indicating the sucess of writting to the file\n",
    "        \"\"\"\n",
    "        try:\n",
    "            with open(file_path, 'w') as fh:\n",
    "                fh.write(file_text)\n",
    "        except IOError as e:\n",
    "            print(f'Check the file path, {e.filename} could not be written to.')\n",
    "            return False\n",
    "        except TypeError as e:\n",
    "            print(f'Check the type value of the file_text value: {file_text}')\n",
    "            return False\n",
    "        except:\n",
    "            print('Generic write error')\n",
    "            return False\n",
    "        return True\n",
    "                \n",
    "    def read_file(self, file_path):\n",
    "        \"\"\"\n",
    "        Read file from disk\n",
    "        :param file_path: String Full path to the file\n",
    "        :return: String value of the file contents or empty if file read fails\n",
    "        \"\"\"\n",
    "        if not self.file_exists(file_path):\n",
    "            print(f'Read file {file_path} does not exist')\n",
    "            return ''\n",
    "        try:\n",
    "            with open(file_path, 'r') as fh:\n",
    "                file_text = fh.read()\n",
    "        except IOError as e:\n",
    "            print(f'Check the file path, {e.filename} could not be read.')\n",
    "            return ''\n",
    "        except:\n",
    "            print('Generic write error')\n",
    "            return ''        \n",
    "        return file_text\n",
    "    \n",
    "    @staticmethod\n",
    "    def validated_input(input_prompt='Enter your name:', target_type=str, valid_options=[], \n",
    "                       valid_upper_bound=None):\n",
    "        \"\"\"\n",
    "        Validated input wrapper method\n",
    "        :param input_prompt: String used for the input prompt\n",
    "        :param target_type: Python Type expected for the user input\n",
    "        :param valid_options: List containing valid input options, defaults to empty list and is not applied\n",
    "        :param valid_upper_bound: Maxium value allowed, defaults to None and is not applied\n",
    "        :return: Typed of validated user input\n",
    "        \"\"\"\n",
    "        # Confirm that target_type is actually a Type\n",
    "        if not isinstance(target_type, type):\n",
    "            print(f'Invalid target_type value {target_type}, not a Python Type')\n",
    "        # Loop forever waiting for the user to enter the correctly formatted input\n",
    "        while True:\n",
    "            # Get the user input\n",
    "            user_input = input(input_prompt)\n",
    "            try:\n",
    "                # Try casting the user input to the target type\n",
    "                user_input_typed = target_type(user_input)\n",
    "                # If there is a list of valid options enforce user input membership\n",
    "                if len(valid_options) > 0 and user_input_typed not in valid_options:\n",
    "                    valid_options_str = ', '.join([str(vo) for vo in valid_options])\n",
    "                    print(f'Invalid input, must be one of the following values: {valid_options_str}')\n",
    "                    continue\n",
    "                # Apply the upper bound max check on int and float types if specified\n",
    "                if ((target_type==int and isinstance(valid_upper_bound, int)) or \n",
    "                    (target_type==float and isinstance(valid_upper_bound, float))):\n",
    "                    if user_input_typed > valid_upper_bound:\n",
    "                        print(f'Invalid input, must be less the valid upper bound {valid_upper_bound}')\n",
    "                        continue\n",
    "                break\n",
    "            except:\n",
    "                print(f'Invalid input {user_input} is not of type {target_type.__name__}')\n",
    "        return user_input_typed"
   ]
  },
  {
   "cell_type": "code",
   "execution_count": 3,
   "id": "adequate-airport",
   "metadata": {},
   "outputs": [],
   "source": [
    "hlp = Helper()\n",
    "# Read the JSON file\n",
    "telemetry = hlp.read_file(file_path='/Users/jking/git/public-notebooks/ALY2100/telemetry.json')"
   ]
  },
  {
   "cell_type": "code",
   "execution_count": 4,
   "id": "returning-cambodia",
   "metadata": {},
   "outputs": [],
   "source": [
    "# Decode the JSON string to a dict\n",
    "telemetry = json.loads(telemetry)\n",
    "# Get the top level key \"telemtry\", which contains a list of dict values\n",
    "telemetry = telemetry.get('telemetry')\n",
    "\n",
    "# Generate lists of unique values for each velocity and altitude\n",
    "velocity = list(set([t.get('velocity') for t in telemetry]))\n",
    "altitude = list(set([t.get('altitude') for t in telemetry]))"
   ]
  },
  {
   "cell_type": "code",
   "execution_count": 5,
   "id": "expressed-winter",
   "metadata": {},
   "outputs": [],
   "source": [
    "def get_max(elements):\n",
    "    \"\"\"\n",
    "    Get the maximum value recursively from an input list\n",
    "    :param elements: list of values to consider\n",
    "    :return: Maximum value contained in the elements list\n",
    "    \"\"\"\n",
    "    # Base case, return if elements only contains a single element\n",
    "    if len(elements) == 1:\n",
    "        return elements[0]\n",
    "    else:\n",
    "        # Recursive max\n",
    "        return max(elements[0], get_max(elements[1:]))"
   ]
  },
  {
   "cell_type": "code",
   "execution_count": 6,
   "id": "expected-retention",
   "metadata": {},
   "outputs": [
    {
     "name": "stdout",
     "output_type": "stream",
     "text": [
      "RECUSIVE Max velocity: 9788.888 | Max Height: 508.0\n"
     ]
    }
   ],
   "source": [
    "# Ensure the maximum recursion depth will not be exceeded\n",
    "sys.setrecursionlimit(len(velocity) * 2)\n",
    "# Get max velocity using recusion\n",
    "m_velocity = get_max(elements=velocity)\n",
    "sys.setrecursionlimit(len(altitude) * 2)\n",
    "# Get max altitude using recusion\n",
    "m_altitude = get_max(elements=altitude)\n",
    "print(f'RECUSIVE Max velocity: {m_velocity} | Max Height: {m_altitude}')"
   ]
  },
  {
   "cell_type": "code",
   "execution_count": 7,
   "id": "delayed-mathematics",
   "metadata": {},
   "outputs": [
    {
     "name": "stdout",
     "output_type": "stream",
     "text": [
      "Max velocity: 9788.888 | Max Height: 508.0\n"
     ]
    }
   ],
   "source": [
    "# Sanity check against simple max solution without recursion\n",
    "m_velocity = max([t.get('velocity') for t in telemetry])\n",
    "m_altitude = max([t.get('altitude') for t in telemetry])\n",
    "print(f'Max velocity: {m_velocity} | Max Height: {m_altitude}')"
   ]
  },
  {
   "cell_type": "code",
   "execution_count": null,
   "id": "functional-magic",
   "metadata": {},
   "outputs": [],
   "source": []
  }
 ],
 "metadata": {
  "kernelspec": {
   "display_name": "Python 3",
   "language": "python",
   "name": "python3"
  },
  "language_info": {
   "codemirror_mode": {
    "name": "ipython",
    "version": 3
   },
   "file_extension": ".py",
   "mimetype": "text/x-python",
   "name": "python",
   "nbconvert_exporter": "python",
   "pygments_lexer": "ipython3",
   "version": "3.9.1rc1"
  }
 },
 "nbformat": 4,
 "nbformat_minor": 5
}
