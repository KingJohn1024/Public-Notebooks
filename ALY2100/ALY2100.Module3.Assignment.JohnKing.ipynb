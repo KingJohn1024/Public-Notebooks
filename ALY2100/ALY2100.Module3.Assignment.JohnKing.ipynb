{
 "cells": [
  {
   "cell_type": "markdown",
   "id": "handled-abuse",
   "metadata": {},
   "source": [
    "### Ocean Levels"
   ]
  },
  {
   "cell_type": "markdown",
   "id": "nasty-dairy",
   "metadata": {},
   "source": [
    "<p>Assuming the ocean's level is currently rising at 1.6 millimeters per year, create an application that displays the number of millimeters that the ocean will have risen each year for the next 25 years.</p>"
   ]
  },
  {
   "cell_type": "code",
   "execution_count": 1,
   "id": "educational-component",
   "metadata": {},
   "outputs": [],
   "source": [
    "from datetime import date"
   ]
  },
  {
   "cell_type": "code",
   "execution_count": 2,
   "id": "future-export",
   "metadata": {},
   "outputs": [
    {
     "name": "stdout",
     "output_type": "stream",
     "text": [
      "We need to compute the ocean rise level from 2021 to 2046\n",
      "------------------------------------------------------------\n",
      "The ocean has risen 1.6 mm by the end of 2021\n",
      "The ocean has risen 3.2 mm by the end of 2022\n",
      "The ocean has risen 6.4 mm by the end of 2023\n",
      "The ocean has risen 12.8 mm by the end of 2024\n",
      "The ocean has risen 25.6 mm by the end of 2025\n",
      "The ocean has risen 51.2 mm by the end of 2026\n",
      "The ocean has risen 102.4 mm by the end of 2027\n",
      "The ocean has risen 204.8 mm by the end of 2028\n",
      "The ocean has risen 409.6 mm by the end of 2029\n",
      "The ocean has risen 819.2 mm by the end of 2030\n",
      "The ocean has risen 1,638.4 mm by the end of 2031\n",
      "The ocean has risen 3,276.8 mm by the end of 2032\n",
      "The ocean has risen 6,553.6 mm by the end of 2033\n",
      "The ocean has risen 13,107.2 mm by the end of 2034\n",
      "The ocean has risen 26,214.4 mm by the end of 2035\n",
      "The ocean has risen 52,428.8 mm by the end of 2036\n",
      "The ocean has risen 104,857.6 mm by the end of 2037\n",
      "The ocean has risen 209,715.2 mm by the end of 2038\n",
      "The ocean has risen 419,430.4 mm by the end of 2039\n",
      "The ocean has risen 838,860.8 mm by the end of 2040\n",
      "The ocean has risen 1,677,721.6 mm by the end of 2041\n",
      "The ocean has risen 3,355,443.2 mm by the end of 2042\n",
      "The ocean has risen 6,710,886.4 mm by the end of 2043\n",
      "The ocean has risen 13,421,772.8 mm by the end of 2044\n",
      "The ocean has risen 26,843,545.6 mm by the end of 2045\n",
      "The ocean has risen 53,687,091.2 mm by the end of 2046\n"
     ]
    }
   ],
   "source": [
    "start_year = date.today().year\n",
    "running_ocean_rise = 1.6  # The scale is millimeters here\n",
    "print(f'We need to compute the ocean rise level from {start_year} to {start_year + 25}')\n",
    "print('-' * 60)\n",
    "for year in range(start_year, start_year+26, 1):\n",
    "    print(f'The ocean has risen {running_ocean_rise:,} mm by the end of {year}')\n",
    "    running_ocean_rise += running_ocean_rise  # Running total ocean rise level"
   ]
  },
  {
   "cell_type": "markdown",
   "id": "fixed-consistency",
   "metadata": {},
   "source": [
    "### Population"
   ]
  },
  {
   "cell_type": "markdown",
   "id": "dated-chrome",
   "metadata": {},
   "source": [
    "<p>Write a program that predicts the approximate size of a population of organisms. The application should use text boxes to allow the user to enter the starting number of organisms, the average daily population increase (as a percentage), and the number of days the organisms will be left to multiply. Ask the user when he/she wants to stop the simulation. For example, assume the user enters the following values:</p>\n",
    "<br />\n",
    "Starting number of organisms: 2\n",
    "<br /><br />\n",
    "Average daily increase: 30%\n",
    "<br /><br />\n",
    "Number of days to multiply: 10\n",
    "<br /><br />\n",
    "The application/program should display the following table of data:\n",
    "<br /><br />\n",
    "<table align='left'>\n",
    "    <tr><th><b>Day Approximate</b></th><th><b>Population</b></th></tr>\n",
    "    <tr><td>1</td><td>2</td></tr>\n",
    "    <tr><td>2</td><td>2.6</td></tr>    \n",
    "    <tr><td>3</td><td>3.38</td></tr>\n",
    "    <tr><td>4</td><td>4.394</td></tr>\n",
    "    <tr><td>5</td><td>5.7122</td></tr>    \n",
    "    <tr><td>6</td><td>7.42586</td></tr>\n",
    "    <tr><td>7</td><td>9.653619</td></tr>\n",
    "    <tr><td>8</td><td>12.5497</td></tr>\n",
    "    <tr><td>9</td><td>16.314622</td></tr>\n",
    "    <tr><td>10</td><td>21.209</td></tr>    \n",
    "</table>"
   ]
  },
  {
   "cell_type": "code",
   "execution_count": 3,
   "id": "exceptional-sandwich",
   "metadata": {},
   "outputs": [
    {
     "name": "stdout",
     "output_type": "stream",
     "text": [
      "Please enter the number of starting organisms:2\n",
      "Please enter the average daily increase (percent scale):30\n",
      "Please enter the number of days to multiply:10\n"
     ]
    }
   ],
   "source": [
    "# Setup the input varaibles\n",
    "n_start_organisms = input('Please enter the number of starting organisms:')\n",
    "avg_daily_increase = input('Please enter the average daily increase (percent scale):')\n",
    "n_days = input('Please enter the number of days to multiply:')"
   ]
  },
  {
   "cell_type": "code",
   "execution_count": 4,
   "id": "improved-antenna",
   "metadata": {},
   "outputs": [],
   "source": [
    "def try_parse(input_var, type_func):\n",
    "    \"\"\"\n",
    "    Try parse\n",
    "    :param input_var: Generic input variable\n",
    "    :param type_func: Function to convert the input variable to the desired type\n",
    "    :return: input_var converted to the desired type as defined via the type_func\n",
    "    >>> try_pares(input_var=30, type_func=lambda x: float(x))\n",
    "    \"\"\"\n",
    "    try:\n",
    "        return type_func(input_var)\n",
    "    except:\n",
    "        raise Exception(f'Input variable {input_var} integer!')"
   ]
  },
  {
   "cell_type": "code",
   "execution_count": 5,
   "id": "sweet-punishment",
   "metadata": {},
   "outputs": [],
   "source": [
    "# Call the try_parse function for each of the 3 input variables to ensure they cleanly conver to integers\n",
    "n_start_organisms = try_parse(input_var=n_start_organisms, type_func=lambda x: int(x))\n",
    "avg_daily_increase = try_parse(input_var=avg_daily_increase, type_func=lambda x: float(x))\n",
    "n_days = try_parse(input_var=n_days, type_func=lambda x: int(x))"
   ]
  },
  {
   "cell_type": "code",
   "execution_count": 6,
   "id": "enclosed-reasoning",
   "metadata": {},
   "outputs": [
    {
     "name": "stdout",
     "output_type": "stream",
     "text": [
      "Day Approximate     Population\n",
      "1                   2\n",
      "2                   2.6\n",
      "3                   3.38\n",
      "4                   4.394\n",
      "5                   5.7122\n",
      "6                   7.42586\n",
      "7                   9.653618\n",
      "8                   12.549703\n",
      "9                   16.314614\n",
      "10                  21.208999\n"
     ]
    }
   ],
   "source": [
    "# Initialize variables\n",
    "counter = 1\n",
    "population = n_start_organisms\n",
    "sep = ' ' * (20 - (len(str(counter)) + (len('Day Approximate') - 1)))  # Compute separator for header\n",
    "print('Day Approximate' + sep + 'Population')\n",
    "while counter <= n_days:\n",
    "    sep = ' ' * (20 - (len(str(counter))))  # Compute row separator with counter offset, number of day digits impact\n",
    "    print(str(counter) + sep + str(round(population, 6)))\n",
    "    population += (population * (avg_daily_increase / 100.))  # Compute the running simulation population\n",
    "    counter += 1"
   ]
  },
  {
   "cell_type": "code",
   "execution_count": null,
   "id": "varying-depression",
   "metadata": {},
   "outputs": [],
   "source": []
  }
 ],
 "metadata": {
  "kernelspec": {
   "display_name": "Python 3",
   "language": "python",
   "name": "python3"
  },
  "language_info": {
   "codemirror_mode": {
    "name": "ipython",
    "version": 3
   },
   "file_extension": ".py",
   "mimetype": "text/x-python",
   "name": "python",
   "nbconvert_exporter": "python",
   "pygments_lexer": "ipython3",
   "version": "3.9.1rc1"
  }
 },
 "nbformat": 4,
 "nbformat_minor": 5
}
