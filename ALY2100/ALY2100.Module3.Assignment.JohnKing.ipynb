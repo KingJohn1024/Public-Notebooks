{
 "cells": [
  {
   "cell_type": "markdown",
   "id": "desirable-premium",
   "metadata": {},
   "source": [
    "### Ocean Levels"
   ]
  },
  {
   "cell_type": "markdown",
   "id": "bright-running",
   "metadata": {},
   "source": [
    "<p>Assuming the ocean's level is currently rising at 1.6 millimeters per year, create an application that displays the number of millimeters that the ocean will have risen each year for the next 25 years.</p>"
   ]
  },
  {
   "cell_type": "code",
   "execution_count": 1,
   "id": "solar-austria",
   "metadata": {},
   "outputs": [],
   "source": [
    "from datetime import date"
   ]
  },
  {
   "cell_type": "code",
   "execution_count": 2,
   "id": "miniature-twist",
   "metadata": {},
   "outputs": [
    {
     "name": "stdout",
     "output_type": "stream",
     "text": [
      "We need to compute the ocean rise level from 2021 to 2046\n",
      "------------------------------------------------------------\n",
      "The ocean has risen 1.6 mm by the end of 2021\n",
      "The ocean has risen 3.2 mm by the end of 2022\n",
      "The ocean has risen 4.8 mm by the end of 2023\n",
      "The ocean has risen 6.4 mm by the end of 2024\n",
      "The ocean has risen 8.0 mm by the end of 2025\n",
      "The ocean has risen 9.6 mm by the end of 2026\n",
      "The ocean has risen 11.2 mm by the end of 2027\n",
      "The ocean has risen 12.8 mm by the end of 2028\n",
      "The ocean has risen 14.4 mm by the end of 2029\n",
      "The ocean has risen 16.0 mm by the end of 2030\n",
      "The ocean has risen 17.6 mm by the end of 2031\n",
      "The ocean has risen 19.2 mm by the end of 2032\n",
      "The ocean has risen 20.8 mm by the end of 2033\n",
      "The ocean has risen 22.4 mm by the end of 2034\n",
      "The ocean has risen 24.0 mm by the end of 2035\n",
      "The ocean has risen 25.6 mm by the end of 2036\n",
      "The ocean has risen 27.2 mm by the end of 2037\n",
      "The ocean has risen 28.8 mm by the end of 2038\n",
      "The ocean has risen 30.4 mm by the end of 2039\n",
      "The ocean has risen 32.0 mm by the end of 2040\n",
      "The ocean has risen 33.6 mm by the end of 2041\n",
      "The ocean has risen 35.2 mm by the end of 2042\n",
      "The ocean has risen 36.8 mm by the end of 2043\n",
      "The ocean has risen 38.4 mm by the end of 2044\n",
      "The ocean has risen 40.0 mm by the end of 2045\n"
     ]
    }
   ],
   "source": [
    "start_year = date.today().year\n",
    "ocean_rise_rate = 1.6  # The scale is millimeters here\n",
    "print(f'We need to compute the ocean rise level from {start_year} to {start_year + 25}')\n",
    "print('-' * 60)\n",
    "running_ocean_rise = ocean_rise_rate\n",
    "for year in range(start_year, start_year+25, 1):\n",
    "    print(f'The ocean has risen {running_ocean_rise:,.4} mm by the end of {year}')\n",
    "    running_ocean_rise += ocean_rise_rate  # Running total ocean rise level"
   ]
  },
  {
   "cell_type": "markdown",
   "id": "other-publication",
   "metadata": {},
   "source": [
    "### Population"
   ]
  },
  {
   "cell_type": "markdown",
   "id": "addressed-center",
   "metadata": {},
   "source": [
    "<p>Write a program that predicts the approximate size of a population of organisms. The application should use text boxes to allow the user to enter the starting number of organisms, the average daily population increase (as a percentage), and the number of days the organisms will be left to multiply. Ask the user when he/she wants to stop the simulation. For example, assume the user enters the following values:</p>\n",
    "<br />\n",
    "Starting number of organisms: 2\n",
    "<br /><br />\n",
    "Average daily increase: 30%\n",
    "<br /><br />\n",
    "Number of days to multiply: 10\n",
    "<br /><br />\n",
    "The application/program should display the following table of data:\n",
    "<br /><br />\n",
    "<table align='left'>\n",
    "    <tr><th><b>Day Approximate</b></th><th><b>Population</b></th></tr>\n",
    "    <tr><td>1</td><td>2</td></tr>\n",
    "    <tr><td>2</td><td>2.6</td></tr>    \n",
    "    <tr><td>3</td><td>3.38</td></tr>\n",
    "    <tr><td>4</td><td>4.394</td></tr>\n",
    "    <tr><td>5</td><td>5.7122</td></tr>    \n",
    "    <tr><td>6</td><td>7.42586</td></tr>\n",
    "    <tr><td>7</td><td>9.653619</td></tr>\n",
    "    <tr><td>8</td><td>12.5497</td></tr>\n",
    "    <tr><td>9</td><td>16.314622</td></tr>\n",
    "    <tr><td>10</td><td>21.209</td></tr>    \n",
    "</table>"
   ]
  },
  {
   "cell_type": "code",
   "execution_count": 11,
   "id": "annual-crisis",
   "metadata": {},
   "outputs": [],
   "source": [
    "def try_parse(input_var, type_func):\n",
    "    \"\"\"\n",
    "    Try parse\n",
    "    :param input_var: Generic input variable\n",
    "    :param type_func: Function to convert the input variable to the desired type\n",
    "    :return: input_var converted to the desired type as defined via the type_func\n",
    "    >>> try_pares(input_var=30, type_func=lambda x: float(x))\n",
    "    \"\"\"\n",
    "    try:\n",
    "        return type_func(input_var)\n",
    "    except:\n",
    "        raise Exception(f'Input variable {input_var} must adhere to {type_func}')"
   ]
  },
  {
   "cell_type": "code",
   "execution_count": 12,
   "id": "copyrighted-marathon",
   "metadata": {},
   "outputs": [
    {
     "name": "stdout",
     "output_type": "stream",
     "text": [
      "Please enter the number of starting organisms:aa\n",
      "Please enter the average daily increase (percent scale):3\n",
      "Please enter the number of days to multiply:4\n"
     ]
    },
    {
     "ename": "Exception",
     "evalue": "Input variable aa must adhere to <function <lambda> at 0x10a350820>",
     "output_type": "error",
     "traceback": [
      "\u001b[0;31m---------------------------------------------------------------------------\u001b[0m",
      "\u001b[0;31mValueError\u001b[0m                                Traceback (most recent call last)",
      "\u001b[0;32m<ipython-input-11-0c53ea8becf1>\u001b[0m in \u001b[0;36mtry_parse\u001b[0;34m(input_var, type_func)\u001b[0m\n\u001b[1;32m      9\u001b[0m     \u001b[0;32mtry\u001b[0m\u001b[0;34m:\u001b[0m\u001b[0;34m\u001b[0m\u001b[0;34m\u001b[0m\u001b[0m\n\u001b[0;32m---> 10\u001b[0;31m         \u001b[0;32mreturn\u001b[0m \u001b[0mtype_func\u001b[0m\u001b[0;34m(\u001b[0m\u001b[0minput_var\u001b[0m\u001b[0;34m)\u001b[0m\u001b[0;34m\u001b[0m\u001b[0;34m\u001b[0m\u001b[0m\n\u001b[0m\u001b[1;32m     11\u001b[0m     \u001b[0;32mexcept\u001b[0m\u001b[0;34m:\u001b[0m\u001b[0;34m\u001b[0m\u001b[0;34m\u001b[0m\u001b[0m\n",
      "\u001b[0;32m<ipython-input-12-233055381204>\u001b[0m in \u001b[0;36m<lambda>\u001b[0;34m(x)\u001b[0m\n\u001b[1;32m      8\u001b[0m     \u001b[0;31m# Call the try_parse function for each of the 3 input variables to ensure they cleanly conver to integers\u001b[0m\u001b[0;34m\u001b[0m\u001b[0;34m\u001b[0m\u001b[0;34m\u001b[0m\u001b[0m\n\u001b[0;32m----> 9\u001b[0;31m     \u001b[0mn_start_organisms\u001b[0m \u001b[0;34m=\u001b[0m \u001b[0mtry_parse\u001b[0m\u001b[0;34m(\u001b[0m\u001b[0minput_var\u001b[0m\u001b[0;34m=\u001b[0m\u001b[0mn_start_organisms\u001b[0m\u001b[0;34m,\u001b[0m \u001b[0mtype_func\u001b[0m\u001b[0;34m=\u001b[0m\u001b[0;32mlambda\u001b[0m \u001b[0mx\u001b[0m\u001b[0;34m:\u001b[0m \u001b[0mint\u001b[0m\u001b[0;34m(\u001b[0m\u001b[0mx\u001b[0m\u001b[0;34m)\u001b[0m\u001b[0;34m)\u001b[0m\u001b[0;34m\u001b[0m\u001b[0;34m\u001b[0m\u001b[0m\n\u001b[0m\u001b[1;32m     10\u001b[0m     \u001b[0mavg_daily_increase\u001b[0m \u001b[0;34m=\u001b[0m \u001b[0mtry_parse\u001b[0m\u001b[0;34m(\u001b[0m\u001b[0minput_var\u001b[0m\u001b[0;34m=\u001b[0m\u001b[0mavg_daily_increase\u001b[0m\u001b[0;34m,\u001b[0m \u001b[0mtype_func\u001b[0m\u001b[0;34m=\u001b[0m\u001b[0;32mlambda\u001b[0m \u001b[0mx\u001b[0m\u001b[0;34m:\u001b[0m \u001b[0mfloat\u001b[0m\u001b[0;34m(\u001b[0m\u001b[0mx\u001b[0m\u001b[0;34m)\u001b[0m\u001b[0;34m)\u001b[0m\u001b[0;34m\u001b[0m\u001b[0;34m\u001b[0m\u001b[0m\n",
      "\u001b[0;31mValueError\u001b[0m: invalid literal for int() with base 10: 'aa'",
      "\nDuring handling of the above exception, another exception occurred:\n",
      "\u001b[0;31mException\u001b[0m                                 Traceback (most recent call last)",
      "\u001b[0;32m<ipython-input-12-233055381204>\u001b[0m in \u001b[0;36m<module>\u001b[0;34m\u001b[0m\n\u001b[1;32m      7\u001b[0m \u001b[0;34m\u001b[0m\u001b[0m\n\u001b[1;32m      8\u001b[0m     \u001b[0;31m# Call the try_parse function for each of the 3 input variables to ensure they cleanly conver to integers\u001b[0m\u001b[0;34m\u001b[0m\u001b[0;34m\u001b[0m\u001b[0;34m\u001b[0m\u001b[0m\n\u001b[0;32m----> 9\u001b[0;31m     \u001b[0mn_start_organisms\u001b[0m \u001b[0;34m=\u001b[0m \u001b[0mtry_parse\u001b[0m\u001b[0;34m(\u001b[0m\u001b[0minput_var\u001b[0m\u001b[0;34m=\u001b[0m\u001b[0mn_start_organisms\u001b[0m\u001b[0;34m,\u001b[0m \u001b[0mtype_func\u001b[0m\u001b[0;34m=\u001b[0m\u001b[0;32mlambda\u001b[0m \u001b[0mx\u001b[0m\u001b[0;34m:\u001b[0m \u001b[0mint\u001b[0m\u001b[0;34m(\u001b[0m\u001b[0mx\u001b[0m\u001b[0;34m)\u001b[0m\u001b[0;34m)\u001b[0m\u001b[0;34m\u001b[0m\u001b[0;34m\u001b[0m\u001b[0m\n\u001b[0m\u001b[1;32m     10\u001b[0m     \u001b[0mavg_daily_increase\u001b[0m \u001b[0;34m=\u001b[0m \u001b[0mtry_parse\u001b[0m\u001b[0;34m(\u001b[0m\u001b[0minput_var\u001b[0m\u001b[0;34m=\u001b[0m\u001b[0mavg_daily_increase\u001b[0m\u001b[0;34m,\u001b[0m \u001b[0mtype_func\u001b[0m\u001b[0;34m=\u001b[0m\u001b[0;32mlambda\u001b[0m \u001b[0mx\u001b[0m\u001b[0;34m:\u001b[0m \u001b[0mfloat\u001b[0m\u001b[0;34m(\u001b[0m\u001b[0mx\u001b[0m\u001b[0;34m)\u001b[0m\u001b[0;34m)\u001b[0m\u001b[0;34m\u001b[0m\u001b[0;34m\u001b[0m\u001b[0m\n\u001b[1;32m     11\u001b[0m     \u001b[0mn_days\u001b[0m \u001b[0;34m=\u001b[0m \u001b[0mtry_parse\u001b[0m\u001b[0;34m(\u001b[0m\u001b[0minput_var\u001b[0m\u001b[0;34m=\u001b[0m\u001b[0mn_days\u001b[0m\u001b[0;34m,\u001b[0m \u001b[0mtype_func\u001b[0m\u001b[0;34m=\u001b[0m\u001b[0;32mlambda\u001b[0m \u001b[0mx\u001b[0m\u001b[0;34m:\u001b[0m \u001b[0mint\u001b[0m\u001b[0;34m(\u001b[0m\u001b[0mx\u001b[0m\u001b[0;34m)\u001b[0m\u001b[0;34m)\u001b[0m\u001b[0;34m\u001b[0m\u001b[0;34m\u001b[0m\u001b[0m\n",
      "\u001b[0;32m<ipython-input-11-0c53ea8becf1>\u001b[0m in \u001b[0;36mtry_parse\u001b[0;34m(input_var, type_func)\u001b[0m\n\u001b[1;32m     10\u001b[0m         \u001b[0;32mreturn\u001b[0m \u001b[0mtype_func\u001b[0m\u001b[0;34m(\u001b[0m\u001b[0minput_var\u001b[0m\u001b[0;34m)\u001b[0m\u001b[0;34m\u001b[0m\u001b[0;34m\u001b[0m\u001b[0m\n\u001b[1;32m     11\u001b[0m     \u001b[0;32mexcept\u001b[0m\u001b[0;34m:\u001b[0m\u001b[0;34m\u001b[0m\u001b[0;34m\u001b[0m\u001b[0m\n\u001b[0;32m---> 12\u001b[0;31m         \u001b[0;32mraise\u001b[0m \u001b[0mException\u001b[0m\u001b[0;34m(\u001b[0m\u001b[0;34mf'Input variable {input_var} must adhere to {type_func}'\u001b[0m\u001b[0;34m)\u001b[0m\u001b[0;34m\u001b[0m\u001b[0;34m\u001b[0m\u001b[0m\n\u001b[0m",
      "\u001b[0;31mException\u001b[0m: Input variable aa must adhere to <function <lambda> at 0x10a350820>"
     ]
    }
   ],
   "source": [
    "run_sim = True\n",
    "while (run_sim):\n",
    "    # Setup the input varaibles\n",
    "    n_start_organisms = input('Please enter the number of starting organisms:')\n",
    "    avg_daily_increase = input('Please enter the average daily increase (percent scale):')\n",
    "    n_days = input('Please enter the number of days to multiply:')\n",
    "    \n",
    "    # Call the try_parse function for each of the 3 input variables to ensure they cleanly conver to integers\n",
    "    n_start_organisms = try_parse(input_var=n_start_organisms, type_func=lambda x: int(x))\n",
    "    avg_daily_increase = try_parse(input_var=avg_daily_increase, type_func=lambda x: float(x))\n",
    "    n_days = try_parse(input_var=n_days, type_func=lambda x: int(x))\n",
    "\n",
    "    # Initialize variables\n",
    "    counter = 1\n",
    "    population = n_start_organisms\n",
    "    sep = ' ' * (20 - (len(str(counter)) + (len('Day Approximate') - 1)))  # Compute separator for header\n",
    "    print('Day Approximate' + sep + 'Population')\n",
    "    while counter <= n_days:\n",
    "        sep = ' ' * (20 - (len(str(counter))))  # Compute row separator with counter offset, number of day digits impact\n",
    "        print(str(counter) + sep + str(round(population, 6)))\n",
    "        population += (population * (avg_daily_increase / 100.))  # Compute the running simulation population\n",
    "        counter += 1\n",
    "    \n",
    "    should_stop = input('Do you want to stop the simulation [yes/no]?')\n",
    "    if should_stop.lower() == 'yes':\n",
    "        run_sim = False"
   ]
  },
  {
   "cell_type": "code",
   "execution_count": null,
   "id": "commercial-pursuit",
   "metadata": {},
   "outputs": [],
   "source": []
  }
 ],
 "metadata": {
  "kernelspec": {
   "display_name": "Python 3",
   "language": "python",
   "name": "python3"
  },
  "language_info": {
   "codemirror_mode": {
    "name": "ipython",
    "version": 3
   },
   "file_extension": ".py",
   "mimetype": "text/x-python",
   "name": "python",
   "nbconvert_exporter": "python",
   "pygments_lexer": "ipython3",
   "version": "3.9.1rc1"
  }
 },
 "nbformat": 4,
 "nbformat_minor": 5
}
