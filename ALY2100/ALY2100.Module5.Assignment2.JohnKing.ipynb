{
 "cells": [
  {
   "cell_type": "markdown",
   "id": "norwegian-character",
   "metadata": {},
   "source": [
    "<p>Write a code using abstract data types, classes, and inheritance methods.\n",
    "\n",
    "<b>Creating the Cell Phone Class</b>\n",
    "\n",
    "Wireless Solutions, Inc. is a business that sells cell phones and wireless service. You are a programmer in the company's IT department, and your team is designing a program to manage all of the cell phones that are in the inventory. You have been asked to design a class that represents a cell phone. The data that should be kept as attributes in the class are as follows:\n",
    "\n",
    "The name of the phone's manufacturer will be assigned to the __manufact attribute.\n",
    "The phone's model number will be assigned to the __model attribute\n",
    "The phone's retail price will be assigned to the __retail_price attribute\n",
    "The class will also have the following methods:\n",
    "\n",
    "An __init__ method that accepts arguments for the manufacturer, model number, and retail price.\n",
    "<ul>\n",
    "<li>set_manufact method that accepts an argument for the manufacturer. This method will allow us to change the value of the __manufact attribute after the object has been created, if necessary.</li>\n",
    "<li>set_model method that accepts an argument for the model. This method will allow us to change the value of the __model attribute after the object has been created, if necessary.</li>\n",
    "<li>set_retail_price method that accepts an argument for the retail price. This method will allow us to change the value of the __retail_price attribute after the object has been created, if necessary.</li>\n",
    "<li>get_manufact method that returns the phone's manufacturer</li>\n",
    "<li>get_model method that returns the phone's model number</li>\n",
    "<li>get_retail_price method that returns the phone's retail price</li>\n",
    "</ul>\n",
    "The CellPhone Class will be imported into several programs that your team is developing. To test the class, write a code that prompts the user for the phone's manufacturer, model number, and retail price. An instance of the CellPhone class is created, and the data is assigned to its attributes.\n",
    "\n",
    "The program output should look likes this:\n",
    "\n",
    "Enter the manufacturer: Google <enter>\n",
    "\n",
    "Enter the model number: Pixel 4a <enter>\n",
    "\n",
    "Enter the retail price: $500 <enter>\n",
    "\n",
    "Here is the data that you entered:\n",
    "\n",
    "Manufacturer: Google\n",
    "\n",
    "Model Number: Pixel 4a\n",
    "\n",
    "Retail Price: $500.00\n",
    "</p>"
   ]
  },
  {
   "cell_type": "code",
   "execution_count": 1,
   "id": "wooden-clarity",
   "metadata": {},
   "outputs": [],
   "source": [
    "import numpy as np"
   ]
  },
  {
   "cell_type": "code",
   "execution_count": 16,
   "id": "expected-walnut",
   "metadata": {},
   "outputs": [],
   "source": [
    "class Electronic(object):\n",
    "    def __init__(self, electronic_type):\n",
    "        \"\"\"\n",
    "        Electronic constructor\n",
    "        :param electronic_type: Electronic type string\n",
    "        \"\"\"\n",
    "        self.electronic_type = electronic_type\n",
    "\n",
    "    def __str__(self):\n",
    "        \"\"\"\n",
    "        Returns self's electronic_type\n",
    "        :return: Electronic.electronic_type property\n",
    "        \"\"\"\n",
    "        return self.electronic_type\n",
    "\n",
    "\n",
    "class CellPhone(Electronic):\n",
    "    def __init__(self, manufacturer, model_number, retail_price):\n",
    "        \"\"\"\n",
    "        CellPhone constructor\n",
    "        :param manufacturer: Manufacturer string\n",
    "        :param model_number: Model Number string\n",
    "        :param retail_price: Retail Price float\n",
    "        \"\"\"\n",
    "        Electronic.__init__(self, electronic_type=self.__class__.__name__)\n",
    "        self.set_manufacturer(manufacturer=manufacturer)\n",
    "        self.set_model_number(model_number=model_number)\n",
    "        self.set_retail_price(retail_price)\n",
    "\n",
    "    @staticmethod\n",
    "    def _validate_price(price):\n",
    "        \"\"\"\n",
    "        Private, static method to validate price values\n",
    "        :param price: Price value to validate\n",
    "        :return: Valid price value\n",
    "        \"\"\"\n",
    "        if isinstance(price, str):\n",
    "            price = price.replace('$', '')\n",
    "            try:\n",
    "                price = float(price)\n",
    "            except ValueError:\n",
    "                pass\n",
    "\n",
    "        if isinstance(price, int):\n",
    "            try:\n",
    "                price = float(price)\n",
    "            except ValueError:\n",
    "                pass\n",
    "            \n",
    "        if not isinstance(price, float):\n",
    "            print(f'\\n** price {price} must be added as a float!')\n",
    "            price = np.NaN\n",
    "         \n",
    "        if price <= 0:\n",
    "            print(f'\\n** price {price} must greater than zero dollars')\n",
    "            price = np.NaN\n",
    "        return price\n",
    "        \n",
    "\n",
    "    def set_manufacturer(self, manufacturer):\n",
    "        \"\"\"\n",
    "        Set the cell phone's manufacturer\n",
    "        :param manufacturer: Manufacturer name\n",
    "        :return: N/A\n",
    "        \"\"\"\n",
    "        self.__manufacturer = str(manufacturer)\n",
    "\n",
    "    def get_manufacturer(self):\n",
    "        \"\"\"\n",
    "        Get the cell phone's manufacturer\n",
    "        :return: manufacturer\n",
    "        \"\"\"\n",
    "        return self.__manufacturer\n",
    "\n",
    "    def set_model_number(self, model_number):\n",
    "        \"\"\"\n",
    "        Set the cell phone's model numbers\n",
    "        :param model_number: model number\n",
    "        :return: N/A\n",
    "        \"\"\"\n",
    "        self.__model_number = str(model_number)\n",
    "\n",
    "    def get_model_number(self):\n",
    "        \"\"\"\n",
    "        Get the cell phone's model number\n",
    "        :return: model number\n",
    "        \"\"\"\n",
    "        return self.__model_number\n",
    "\n",
    "    def set_retail_price(self, retail_price):\n",
    "        \"\"\"\n",
    "        Set the cell phone's retail price\n",
    "        :param retail_price: retail price expressed as a float\n",
    "        :return: N/A\n",
    "        \"\"\"\n",
    "        self.__retail_price = self._validate_price(retail_price)\n",
    "\n",
    "    def get_retail_price(self):\n",
    "        \"\"\"\n",
    "        Get the cell phone's retail price\n",
    "        :return: retail price\n",
    "        \"\"\"\n",
    "        return f'${self.__retail_price:.2f}'\n",
    "\n",
    "    def __str__(self):\n",
    "        \"\"\"\n",
    "        Returns the string representation of the CellPhone object\n",
    "        :return: string in the format of {manufacturer}-{model_number}-{retail_price}\n",
    "        \"\"\"\n",
    "        return f'{self.__manufacturer}-{self.__model_number}-{self.__retail_price}'"
   ]
  },
  {
   "cell_type": "code",
   "execution_count": 21,
   "id": "abstract-anthropology",
   "metadata": {},
   "outputs": [
    {
     "name": "stdout",
     "output_type": "stream",
     "text": [
      "\n",
      "** price Not A Number must be added as a float!\n"
     ]
    }
   ],
   "source": [
    "########### Object Instantiation ###########\n",
    "cp = CellPhone(manufacturer='A', model_number='B', retail_price='Not A Number')"
   ]
  },
  {
   "cell_type": "code",
   "execution_count": 4,
   "id": "healthy-boards",
   "metadata": {},
   "outputs": [
    {
     "name": "stdout",
     "output_type": "stream",
     "text": [
      "\n",
      "** price Not A Number must be added as a float!\n",
      "\n",
      "** price -99999.0 must greater than zero dollars\n",
      "\n",
      "** price 0.0 must greater than zero dollars\n"
     ]
    }
   ],
   "source": [
    "# Test invalid input scenarios\n",
    "cp = CellPhone(manufacturer='A', model_number='B', retail_price='Not A Number')\n",
    "assert isinstance(cp, CellPhone), 'Failed to create the CellPhone object'\n",
    "cp2 = CellPhone(manufacturer='A', model_number='B', retail_price=-99999)\n",
    "assert isinstance(cp2, CellPhone), 'Failed to create the CellPhone object'\n",
    "cp2 = CellPhone(manufacturer='A', model_number='B', retail_price=0)\n",
    "assert isinstance(cp2, CellPhone), 'Failed to create the CellPhone object'"
   ]
  },
  {
   "cell_type": "code",
   "execution_count": 5,
   "id": "interior-narrative",
   "metadata": {},
   "outputs": [
    {
     "name": "stdout",
     "output_type": "stream",
     "text": [
      "Enter the manufacturer: Google\n",
      "Enter the model number: Pixel 4a\n",
      "Enter the retail price: $500\n",
      "\n",
      "Here is the data you entered:\n",
      "\n",
      "Manufacturer: Google\n",
      "\n",
      "Model Number: Pixel 4a\n",
      "\n",
      "Retail Price: $500.00\n"
     ]
    }
   ],
   "source": [
    "manufacturer = input('Enter the manufacturer: ')\n",
    "model_number = input('Enter the model number: ')\n",
    "retail_price = input('Enter the retail price: ')\n",
    "cp = CellPhone(manufacturer=manufacturer, model_number=model_number, retail_price=retail_price)\n",
    "results = f'\\nHere is the data you entered:\\n\\nManufacturer: {cp.get_manufacturer()}\\n\\nModel Number: {cp.get_model_number()}\\n\\nRetail Price: {cp.get_retail_price()}'\n",
    "print(results)"
   ]
  },
  {
   "cell_type": "code",
   "execution_count": null,
   "id": "responsible-jungle",
   "metadata": {},
   "outputs": [],
   "source": []
  }
 ],
 "metadata": {
  "kernelspec": {
   "display_name": "Python 3",
   "language": "python",
   "name": "python3"
  },
  "language_info": {
   "codemirror_mode": {
    "name": "ipython",
    "version": 3
   },
   "file_extension": ".py",
   "mimetype": "text/x-python",
   "name": "python",
   "nbconvert_exporter": "python",
   "pygments_lexer": "ipython3",
   "version": "3.9.1rc1"
  }
 },
 "nbformat": 4,
 "nbformat_minor": 5
}
