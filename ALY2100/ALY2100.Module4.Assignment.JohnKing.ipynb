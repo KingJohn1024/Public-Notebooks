{
 "cells": [
  {
   "cell_type": "markdown",
   "id": "continuous-coaching",
   "metadata": {},
   "source": [
    "<p>Write a program using Lists and loops. Make sure to test for any possible error and give user-friendly messages; make your testing plan clear and visible through comments for both of the coding below.\n",
    "<br /><br />\n",
    "1. Standard telephone keypads contain the digits zero through nine. The numbers two through nine each have three letters associated with them, as shown in the following table (look on your phone for the rest of the mapping of 5 through 9):\n",
    "<br /><br />\n",
    "Digit Letters<br />\n",
    "2      АBC<br />\n",
    "3      DEF<br />\n",
    "4      GHI<br /><br />\n",
    "Many people find it difficult to memorize phone numbers, so they use the correspondence between digits and letters to develop seven-letter words (or phrases) that correspond to their phone numbers. For example, a person whose telephone number is 686-2377 might use the correspondence indicated in the preceding table to develop the seven-letter word \"NUMBERS.” Every seven-letter word or phrase corresponds to exactly one seven-digit telephone number. A budding data science entrepreneur might like to reserve phone number 244-3282 (“BIGDATA\"). Every seven-digit phone number without Os or 1s corresponds to many different seven-letter words, but most of these words represent unrecognizable gibberish. A veterinarian with phone number 738-2273 would be pleased to know that the number corresponds to the letters “PETCARE.” Write a script that, given a seven-digit number, generates every possible seven-letter word combination corresponding to that number. There are 2,187 (37) such combinations. Avoid phone numbers with the digits 0 and 1 (to which no letters correspond). See if your phone number corresponds to meaningful words.</p>"
   ]
  },
  {
   "cell_type": "code",
   "execution_count": 1,
   "id": "fewer-banking",
   "metadata": {},
   "outputs": [
    {
     "name": "stderr",
     "output_type": "stream",
     "text": [
      "[nltk_data] Downloading package wordnet to /Users/jking/nltk_data...\n",
      "[nltk_data]   Package wordnet is already up-to-date!\n"
     ]
    },
    {
     "data": {
      "text/plain": [
       "True"
      ]
     },
     "execution_count": 1,
     "metadata": {},
     "output_type": "execute_result"
    }
   ],
   "source": [
    "import re\n",
    "import nltk\n",
    "from nltk.corpus import wordnet\n",
    "nltk.download('wordnet')"
   ]
  },
  {
   "cell_type": "code",
   "execution_count": 2,
   "id": "driven-onion",
   "metadata": {},
   "outputs": [],
   "source": [
    "# Setting up a constant reusable map of digit : n-alphas\n",
    "NUMBER_MAP = {0: [], 1: [], 2: ['A', 'B', 'C'], 3: ['D', 'E', 'F'], \n",
    "              4: ['G', 'H', 'I'], 5: ['J', 'K', 'L'], 6: ['M', 'N', 'O'], \n",
    "              7: ['P', 'Q', 'R', 'S'], 8: ['T', 'U', 'V'],\n",
    "              9: ['W', 'X', 'Y', 'Z']}"
   ]
  },
  {
   "cell_type": "code",
   "execution_count": 3,
   "id": "protecting-burlington",
   "metadata": {},
   "outputs": [],
   "source": [
    "# Numbers for testing\n",
    "number = '244-7464'  # Big ring\n",
    "# number = '686-2377'  # Numbers\n",
    "# number = '244-3282'  # Big data\n",
    "# number = '738-2273'  # Pet care\n",
    "# number = '909-8404' # My number is not ideal :(\n",
    "# number = '2222'  # Testing junk input number"
   ]
  },
  {
   "cell_type": "markdown",
   "id": "preliminary-fluid",
   "metadata": {},
   "source": [
    "### Setup an output dictionary to target"
   ]
  },
  {
   "cell_type": "code",
   "execution_count": 4,
   "id": "selective-travel",
   "metadata": {},
   "outputs": [],
   "source": [
    "if '0' in number or '1' in number:\n",
    "    print('The input number contains 0 and 1s, try another')\n",
    "    output = {}\n",
    "elif len(number) != 8:\n",
    "    print('The number must be characters long in the XXX-XXXX format')\n",
    "    output = {}\n",
    "else:\n",
    "    # Apply regular expresion to ensure we only have 2-9 numerics\n",
    "    numbers = re.sub('[^2-9]', '', number)\n",
    "    output = dict()\n",
    "    counter = 0\n",
    "    # For each digit n in the number\n",
    "    for n in list(numbers):\n",
    "        # Fill a new dict with digit position : possible vanity alphas\n",
    "        output[counter] = NUMBER_MAP.get(int(n))\n",
    "        counter += 1"
   ]
  },
  {
   "cell_type": "code",
   "execution_count": 5,
   "id": "improving-template",
   "metadata": {},
   "outputs": [
    {
     "data": {
      "text/plain": [
       "{0: ['A', 'B', 'C'],\n",
       " 1: ['G', 'H', 'I'],\n",
       " 2: ['G', 'H', 'I'],\n",
       " 3: ['P', 'Q', 'R', 'S'],\n",
       " 4: ['G', 'H', 'I'],\n",
       " 5: ['M', 'N', 'O'],\n",
       " 6: ['G', 'H', 'I']}"
      ]
     },
     "execution_count": 5,
     "metadata": {},
     "output_type": "execute_result"
    }
   ],
   "source": [
    "output"
   ]
  },
  {
   "cell_type": "markdown",
   "id": "unknown-melissa",
   "metadata": {},
   "source": [
    "### Brute-force nested loop solution\n",
    "<p>There are scalability issues here as there is an assumption that there will always be 6 levels. It also looks terrible, but for the sake of assignment I feel like it illustrates the solution clearly.</p>"
   ]
  },
  {
   "cell_type": "code",
   "execution_count": 6,
   "id": "optical-compiler",
   "metadata": {},
   "outputs": [
    {
     "name": "stdout",
     "output_type": "stream",
     "text": [
      "['aggpgmg', 'aggpgmh', 'aggpgmi', 'aggpgng', 'aggpgnh', 'aggpgni', 'aggpgog', 'aggpgoh', 'aggpgoi', 'aggphmg']\n",
      "['ciishoi', 'ciisimg', 'ciisimh', 'ciisimi', 'ciising', 'ciisinh', 'ciisini', 'ciisiog', 'ciisioh', 'ciisioi']\n",
      "2916\n"
     ]
    }
   ],
   "source": [
    "combos = []\n",
    "if len(output) > 0:\n",
    "    # For each alpha associated with each digit...\n",
    "    for a in output.get(0):\n",
    "        for a1 in output.get(1):\n",
    "            for a2 in output.get(2):\n",
    "                for a3 in output.get(3):\n",
    "                    for a4 in output.get(4):\n",
    "                        for a5 in output.get(5):\n",
    "                            for a6 in output.get(6):\n",
    "                                # Concat all six levels of alphas and append the lowercase string to combos\n",
    "                                combos.append((a + a1 + a2 + a3 + a4 + a5 + a6).lower())\n",
    "print(combos[0:10])\n",
    "print(combos[-10:])\n",
    "print(len(combos))"
   ]
  },
  {
   "cell_type": "markdown",
   "id": "technical-genius",
   "metadata": {},
   "source": [
    "### A more elegant recursive solution\n",
    "<p>The above code has been \"simplified\" by implementing the following recursive function.  It selects the level of recursion dynamically based on the size of the output dictionary, solving the limitations of the former solution.</p>"
   ]
  },
  {
   "cell_type": "code",
   "execution_count": 7,
   "id": "acceptable-shipping",
   "metadata": {},
   "outputs": [],
   "source": [
    "def get_combos(combo='', output={}, idx=0, combo_list=[]):\n",
    "    \"\"\"\n",
    "    Get all combinations of alphas for a six digit phone number from the output dict, recursively\n",
    "    :param combo: Combination string, starting with ''\n",
    "    :param output: Output dict in the form of {digit_slot: [list, of, alphas]}\n",
    "    :param idx: Index value recursive iteration, starting with 0\n",
    "    :return: list of combination strings\n",
    "    \"\"\"\n",
    "    # Start the outer iteration of the top k,v pair\n",
    "    for alpha in output.get(idx):\n",
    "        if idx < len(output)-1:\n",
    "            # If idx is less than the total number of indices to iteration, then call self, incrementing\n",
    "            get_combos(combo=combo+alpha, output=output, idx=idx+1, combo_list=combo_list)\n",
    "        elif idx == len(output)-1:\n",
    "            # Once idx is equal to the total recursion level, append the string upon the final iteration\n",
    "            combo_list.append((combo+alpha).lower())\n",
    "    return combo_list"
   ]
  },
  {
   "cell_type": "code",
   "execution_count": 8,
   "id": "handy-pattern",
   "metadata": {},
   "outputs": [
    {
     "name": "stdout",
     "output_type": "stream",
     "text": [
      "['aggpgmg', 'aggpgmh', 'aggpgmi', 'aggpgng', 'aggpgnh', 'aggpgni', 'aggpgog', 'aggpgoh', 'aggpgoi', 'aggphmg']\n",
      "['ciishoi', 'ciisimg', 'ciisimh', 'ciisimi', 'ciising', 'ciisinh', 'ciisini', 'ciisiog', 'ciisioh', 'ciisioi']\n",
      "2916\n"
     ]
    }
   ],
   "source": [
    "combos = []\n",
    "if len(output) > 0:\n",
    "    combos = get_combos(combo='', output=output, combo_list=[])\n",
    "print(combos[0:10])\n",
    "print(combos[-10:])\n",
    "print(len(combos))"
   ]
  },
  {
   "cell_type": "markdown",
   "id": "forward-employer",
   "metadata": {},
   "source": [
    "### Extra Credit\n",
    "<p>I was curious what words or multipart word phases I would find so I thought I would take it further to see what words I could identify.  I selected the NLTK <a href=\"https://www.nltk.org/howto/wordnet.html\">WordNet Interface</a> as a way to identify full words and word paris</p>"
   ]
  },
  {
   "cell_type": "code",
   "execution_count": 9,
   "id": "offshore-proxy",
   "metadata": {},
   "outputs": [
    {
     "name": "stdout",
     "output_type": "stream",
     "text": [
      "['chiping', 'big ping', 'big qing', 'big ring', 'big sing', 'chi ping', 'chi qing', 'chi ring', 'chi sing']\n"
     ]
    }
   ],
   "source": [
    "word_combos = []\n",
    "# For all combinations in the combos list\n",
    "for c in combos:\n",
    "    # If the entire combo is found in wordnet keep it\n",
    "    if wordnet.synsets(c):\n",
    "        word_combos.append(c)\n",
    "    \n",
    "    # Split the comobs into XXX XXX and check each part\n",
    "    part_one = c[:3]\n",
    "    part_two = c[3:]\n",
    "    if wordnet.synsets(part_one) and wordnet.synsets(part_two):\n",
    "        word_combos.append(f'{part_one} {part_two}')\n",
    "\n",
    "word_combos = sorted(word_combos, key=len)\n",
    "print(word_combos)"
   ]
  },
  {
   "cell_type": "markdown",
   "id": "necessary-eagle",
   "metadata": {},
   "source": [
    "<hr />"
   ]
  },
  {
   "cell_type": "markdown",
   "id": "searching-beverage",
   "metadata": {},
   "source": [
    "<p>2.Just as people would enjoy knowing what word or phrase their phone number corresponds to, they might choose a word or phrase appropriate to their business and determine what phone numbers correspond to it. These are sometimes called vanity phone numbers, and various websites sell such phone numbers. Write a script similar to the above that produces the possible phone number for the given seven letter string.</p>"
   ]
  },
  {
   "cell_type": "code",
   "execution_count": 10,
   "id": "military-shift",
   "metadata": {},
   "outputs": [],
   "source": [
    "def get_vanity_number_from_string(vanity_string):\n",
    "    \"\"\"\n",
    "    Get a vanity number for the associated string value\n",
    "    :param vanity_string: Desired vanity string value\n",
    "    :return: string in the format of XXX-XXXX\n",
    "    \"\"\"\n",
    "    number = []\n",
    "    # Check if the input string is all alpha characters\n",
    "    if not vanity_string.isalpha():\n",
    "        print(f'vanity_string must be alpha, {vanity_string} is not.')\n",
    "        number = \"\"\n",
    "    # Check if the input string does not contain 6 characters\n",
    "    elif len(vanity_string) != 7:\n",
    "        print(f'vanity_string must be 7 characters in length, \"{vanity_string}\" is {len(vanity_string)}.')\n",
    "        number = \"\"\n",
    "    else:\n",
    "        # For all uppercase alpha chacters in the input string\n",
    "        for vanity_alpha in list(vanity_string.upper()):\n",
    "            # For all digit / alphas\n",
    "            for digit, alphas in NUMBER_MAP.items():\n",
    "                if vanity_alpha in alphas:\n",
    "                    number.append(digit)\n",
    "        # Flatten the list of digist into a single string\n",
    "        number = \"\".join([str(x) for x in number])\n",
    "        # Format in number format as XXX-XXXX\n",
    "        number = f'{number[:3]}-{number[3:]}'\n",
    "    return number"
   ]
  },
  {
   "cell_type": "code",
   "execution_count": 11,
   "id": "through-practitioner",
   "metadata": {},
   "outputs": [
    {
     "data": {
      "text/plain": [
       "'738-2273'"
      ]
     },
     "execution_count": 11,
     "metadata": {},
     "output_type": "execute_result"
    }
   ],
   "source": [
    "get_vanity_number_from_string(vanity_string='petcase')"
   ]
  },
  {
   "cell_type": "code",
   "execution_count": 12,
   "id": "radio-offense",
   "metadata": {},
   "outputs": [
    {
     "name": "stdout",
     "output_type": "stream",
     "text": [
      "vanity_string must be alpha, bigd@t@ is not.\n",
      "vanity_string must be 7 characters in length, \"aabbccdd\" is 8.\n"
     ]
    }
   ],
   "source": [
    "# Test for non-alpha check\n",
    "number = get_vanity_number_from_string(vanity_string='bigd@t@')\n",
    "assert len(number)==0, 'Non-alpha test failed'\n",
    "# Test for non-7 character string\n",
    "number = get_vanity_number_from_string(vanity_string='aabbccdd')\n",
    "assert len(number)==0, 'Non-7 chacater test failed'"
   ]
  },
  {
   "cell_type": "code",
   "execution_count": null,
   "id": "informative-myanmar",
   "metadata": {},
   "outputs": [],
   "source": []
  }
 ],
 "metadata": {
  "kernelspec": {
   "display_name": "Python 3",
   "language": "python",
   "name": "python3"
  },
  "language_info": {
   "codemirror_mode": {
    "name": "ipython",
    "version": 3
   },
   "file_extension": ".py",
   "mimetype": "text/x-python",
   "name": "python",
   "nbconvert_exporter": "python",
   "pygments_lexer": "ipython3",
   "version": "3.9.1rc1"
  }
 },
 "nbformat": 4,
 "nbformat_minor": 5
}
