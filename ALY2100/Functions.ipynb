{
 "cells": [
  {
   "cell_type": "code",
   "execution_count": 1,
   "id": "excited-vancouver",
   "metadata": {},
   "outputs": [],
   "source": [
    "import os"
   ]
  },
  {
   "cell_type": "code",
   "execution_count": 33,
   "id": "aggregate-simpson",
   "metadata": {},
   "outputs": [],
   "source": [
    "def file_exists(file_path):\n",
    "    return os.path.exists(file_path)"
   ]
  },
  {
   "cell_type": "code",
   "execution_count": 79,
   "id": "greenhouse-majority",
   "metadata": {},
   "outputs": [],
   "source": [
    "def write_file(file_path, file_lines):\n",
    "    with open(file_path, 'w') as fh:\n",
    "        for ln in file_lines:\n",
    "            fh.write(ln+'\\n')"
   ]
  },
  {
   "cell_type": "code",
   "execution_count": 80,
   "id": "bright-joyce",
   "metadata": {},
   "outputs": [],
   "source": [
    "def read_file(file_path):\n",
    "    if not file_exists(file_path):\n",
    "        print(f'Read file {file_path} does not exist')\n",
    "        return ''\n",
    "    with open(file_path, 'r') as fh:\n",
    "        file_text = fh.readlines()\n",
    "    return file_text"
   ]
  },
  {
   "cell_type": "code",
   "execution_count": 93,
   "id": "graduate-brave",
   "metadata": {},
   "outputs": [],
   "source": [
    "def validated_input(input_msg='Enter your name:', target_type={'type': str}):\n",
    "    while True:\n",
    "        user_input = input(input_msg)\n",
    "        ttype = target_type.get('type')\n",
    "        try:\n",
    "            print(f'Converting to f{ttype}')\n",
    "            ttype(user_input)\n",
    "            break\n",
    "        except ValueError:\n",
    "            print(f'Invalid input {user_input} is not of type {ttype}')\n",
    "    return user_input"
   ]
  },
  {
   "cell_type": "code",
   "execution_count": 95,
   "id": "equipped-bargain",
   "metadata": {},
   "outputs": [
    {
     "name": "stdout",
     "output_type": "stream",
     "text": [
      "Enter Age?aaa\n",
      "Converting to f<class 'int'>\n",
      "Invalid input aaa is not of type <class 'int'>\n",
      "Enter Age?(*&*&(\n",
      "Converting to f<class 'int'>\n",
      "Invalid input (*&*&( is not of type <class 'int'>\n",
      "Enter Age?20\n",
      "Converting to f<class 'int'>\n"
     ]
    }
   ],
   "source": [
    "res = validated_input(input_msg='Enter Age?', target_type={'type': int})"
   ]
  },
  {
   "cell_type": "code",
   "execution_count": null,
   "id": "powered-upset",
   "metadata": {},
   "outputs": [],
   "source": []
  }
 ],
 "metadata": {
  "kernelspec": {
   "display_name": "Python 3",
   "language": "python",
   "name": "python3"
  },
  "language_info": {
   "codemirror_mode": {
    "name": "ipython",
    "version": 3
   },
   "file_extension": ".py",
   "mimetype": "text/x-python",
   "name": "python",
   "nbconvert_exporter": "python",
   "pygments_lexer": "ipython3",
   "version": "3.9.1rc1"
  }
 },
 "nbformat": 4,
 "nbformat_minor": 5
}
