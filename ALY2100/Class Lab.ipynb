{
 "cells": [
  {
   "cell_type": "markdown",
   "id": "attractive-russian",
   "metadata": {},
   "source": [
    "<p>Generic ALY2100 class lab exercise notebook</p>"
   ]
  },
  {
   "cell_type": "markdown",
   "id": "english-corps",
   "metadata": {},
   "source": [
    "## 2020-03-02"
   ]
  },
  {
   "cell_type": "code",
   "execution_count": null,
   "id": "confidential-guarantee",
   "metadata": {},
   "outputs": [],
   "source": [
    "options = ('t', 'm', 's', 'p')"
   ]
  },
  {
   "cell_type": "markdown",
   "id": "coordinate-variation",
   "metadata": {},
   "source": [
    "<ul>\n",
    "<li>Modify the adventure game to let the user populate an empty shell with any of the options ('t', 'm', 's', 'p')</li>\n",
    "<li>Check for outbounds and if so, return the user to the first empty cell,     if no empty cell end the game</li>\n",
    "</ul>"
   ]
  },
  {
   "cell_type": "code",
   "execution_count": null,
   "id": "lesbian-magic",
   "metadata": {},
   "outputs": [],
   "source": [
    "# Adventure game demo dynamic\n",
    "import random\n",
    "# Define some constants for items that will be found in the grid\n",
    "EMPTY = 'e'\n",
    "TREASURE = 't'\n",
    "MONSTER = 'm'\n",
    "SWORD = 's'\n",
    "POTION = 'p'\n",
    "addInToGrid = (TREASURE, TREASURE, TREASURE, MONSTER, MONSTER, MONSTER,\\\n",
    "               SWORD, SWORD, POTION, POTION)\n",
    "NROWS_IN_GRID = 6\n",
    "NCOLS_IN_GRID = 8\n",
    "# Find a random cell that is empty\n",
    "def findEmptyCell(aGrid, nRows, nCols):\n",
    "    while True:\n",
    "        aRow = random.randrange(nRows)\n",
    "        aCol = random.randrange(nCols)\n",
    "        if aGrid[aRow][aCol] == EMPTY:\n",
    "            return aRow, aCol\n",
    "# Build grid, start it off all empty\n",
    "grid = []\n",
    "for r in range(0, NROWS_IN_GRID):\n",
    "    aRow = []\n",
    "    for c in range(0, NCOLS_IN_GRID):\n",
    "        aRow.append(EMPTY)\n",
    "    grid.append(aRow)\n",
    "# Add in items randomly\n",
    "for item in addInToGrid:\n",
    "    locRow, locCol = findEmptyCell(grid, NROWS_IN_GRID, NCOLS_IN_GRID)\n",
    "    grid[locRow][locCol] = item\n",
    "# For testing, print the grid, row by row\n",
    "for thisRow in grid:\n",
    "    print(thisRow)\n",
    "print()\n",
    "locRow, locCol = findEmptyCell(grid, NROWS_IN_GRID, NCOLS_IN_GRID)\n",
    "# For testing, print out the starting location so we know where we are in the grid\n",
    "print('Starting at  row:', locRow, '  col:', locCol)\n",
    "\n",
    "while True:  # move around the grid\n",
    "    direction = input('Press L, U, R, or D to move: ')\n",
    "    # direction = input('Press T, , R, or D to move: ')\n",
    "    direction = direction.lower()\n",
    "    print()\n",
    "    if direction == 'l':\n",
    "        locCol = locCol - 1\n",
    "    elif direction == 'u':\n",
    "        locRow = locRow - 1\n",
    "    elif direction == 'r':\n",
    "        locCol = locCol + 1\n",
    "    elif direction == 'd':\n",
    "        locRow = locRow + 1\n",
    "    else:\n",
    "        print('Oops - staying where we are ... ')\n",
    "         \n",
    "    \"\"\"\n",
    "        if foundInCell == 'e':\n",
    "            add_item = input('What would you like to add t, m, s, p')\n",
    "            if locRow < len(grid):\n",
    "                if locCol < len(grid[locRow]):\n",
    "                    grid[locRow][locCol] = add_item    \n",
    "    \"\"\"\n",
    "    foundInCell = grid[locRow][locCol]\n",
    "    print('Now at row:', locRow, '   col:', locCol, '    cell contains:', foundInCell)\n",
    "    \n",
    "    # Add code here to do whatever you want with the contents of the current cell\n",
    "    #  (e.g., fight, run, pick up, etc.)\n"
   ]
  },
  {
   "cell_type": "code",
   "execution_count": 30,
   "id": "flying-steps",
   "metadata": {},
   "outputs": [],
   "source": [
    "people = {\n",
    "    'Joe': {'Age': 20, 'Location': 'Boston', 'Sports': ['Soccer', 'Baseball', 'Swimming']},\n",
    "    'Jane': {'Age': 28, 'Location': 'New York', 'Sports': ['Tennis', 'Swimming', 'Running']},\n",
    "    'Bob': {'Age': 32, 'Location': 'Rhode Island', 'Sports': ['Football']},\n",
    "    'Mike': {'Age': 29, 'Location': '', 'Sports': ['Soccer', 'Running']},\n",
    "    'Mike': {'Age': 14, 'Location': '', 'Sports': ['Football', 'Baseball']}  # Only this one is kept\n",
    "}"
   ]
  },
  {
   "cell_type": "code",
   "execution_count": 31,
   "id": "female-making",
   "metadata": {},
   "outputs": [
    {
     "name": "stdout",
     "output_type": "stream",
     "text": [
      "Joe plays ['Soccer', 'Baseball', 'Swimming']\n",
      "Jane plays ['Tennis', 'Swimming', 'Running']\n",
      "Bob plays ['Football']\n",
      "Mike plays ['Football', 'Baseball']\n"
     ]
    }
   ],
   "source": [
    "for p, v in people.items():\n",
    "    sports = v.get('Sports')\n",
    "    print(f'{p} plays {sports}')"
   ]
  },
  {
   "cell_type": "code",
   "execution_count": 39,
   "id": "cultural-buffer",
   "metadata": {},
   "outputs": [],
   "source": [
    "people = [\n",
    "    {'Name': 'Joe', 'Age': 20, 'Location': 'Boston', 'Sports': ['Soccer', 'Baseball', 'Swimming']},\n",
    "    {'Name': 'Jane', 'Age': 28, 'Location': 'New York', 'Sports': ['Tennis', 'Swimming', 'Running']},\n",
    "    {'Name': 'Bob', 'Age': 32, 'Location': 'Rhode Island', 'Sports': ['Football']},\n",
    "    {'Name': 'Mike', 'Age': 29, 'Location': '', 'Sports': ['Soccer', 'Running']},\n",
    "    {'Name': 'Mike', 'Age': 14, 'Location': '', 'Sports': ['Football', 'Baseball']}    \n",
    "]"
   ]
  },
  {
   "cell_type": "code",
   "execution_count": 42,
   "id": "innocent-convert",
   "metadata": {},
   "outputs": [
    {
     "name": "stdout",
     "output_type": "stream",
     "text": [
      "Joe plays ['Soccer', 'Baseball', 'Swimming']\n",
      "Jane plays ['Tennis', 'Swimming', 'Running']\n",
      "Bob plays ['Football']\n",
      "Mike plays ['Soccer', 'Running']\n",
      "Mike plays ['Football', 'Baseball']\n"
     ]
    }
   ],
   "source": [
    "for p in people:\n",
    "    name = p.get('Name')\n",
    "    sports = p.get('Sports')\n",
    "    print(f'{name} plays {sports}')"
   ]
  },
  {
   "cell_type": "code",
   "execution_count": 41,
   "id": "essential-tsunami",
   "metadata": {},
   "outputs": [
    {
     "data": {
      "text/html": [
       "<div>\n",
       "<style scoped>\n",
       "    .dataframe tbody tr th:only-of-type {\n",
       "        vertical-align: middle;\n",
       "    }\n",
       "\n",
       "    .dataframe tbody tr th {\n",
       "        vertical-align: top;\n",
       "    }\n",
       "\n",
       "    .dataframe thead th {\n",
       "        text-align: right;\n",
       "    }\n",
       "</style>\n",
       "<table border=\"1\" class=\"dataframe\">\n",
       "  <thead>\n",
       "    <tr style=\"text-align: right;\">\n",
       "      <th></th>\n",
       "      <th>Name</th>\n",
       "      <th>Age</th>\n",
       "      <th>Location</th>\n",
       "      <th>Sports</th>\n",
       "    </tr>\n",
       "  </thead>\n",
       "  <tbody>\n",
       "    <tr>\n",
       "      <th>0</th>\n",
       "      <td>Joe</td>\n",
       "      <td>20</td>\n",
       "      <td>Boston</td>\n",
       "      <td>[Soccer, Baseball, Swimming]</td>\n",
       "    </tr>\n",
       "    <tr>\n",
       "      <th>1</th>\n",
       "      <td>Jane</td>\n",
       "      <td>28</td>\n",
       "      <td>New York</td>\n",
       "      <td>[Tennis, Swimming, Running]</td>\n",
       "    </tr>\n",
       "    <tr>\n",
       "      <th>2</th>\n",
       "      <td>Bob</td>\n",
       "      <td>32</td>\n",
       "      <td>Rhode Island</td>\n",
       "      <td>[Football]</td>\n",
       "    </tr>\n",
       "    <tr>\n",
       "      <th>3</th>\n",
       "      <td>Mike</td>\n",
       "      <td>29</td>\n",
       "      <td></td>\n",
       "      <td>[Soccer, Running]</td>\n",
       "    </tr>\n",
       "    <tr>\n",
       "      <th>4</th>\n",
       "      <td>Mike</td>\n",
       "      <td>14</td>\n",
       "      <td></td>\n",
       "      <td>[Football, Baseball]</td>\n",
       "    </tr>\n",
       "  </tbody>\n",
       "</table>\n",
       "</div>"
      ],
      "text/plain": [
       "   Name  Age      Location                        Sports\n",
       "0   Joe   20        Boston  [Soccer, Baseball, Swimming]\n",
       "1  Jane   28      New York   [Tennis, Swimming, Running]\n",
       "2   Bob   32  Rhode Island                    [Football]\n",
       "3  Mike   29                           [Soccer, Running]\n",
       "4  Mike   14                        [Football, Baseball]"
      ]
     },
     "execution_count": 41,
     "metadata": {},
     "output_type": "execute_result"
    }
   ],
   "source": [
    "import pandas as pd\n",
    "df = pd.DataFrame(people)\n",
    "df"
   ]
  },
  {
   "cell_type": "code",
   "execution_count": 57,
   "id": "textile-lawsuit",
   "metadata": {},
   "outputs": [
    {
     "name": "stdout",
     "output_type": "stream",
     "text": [
      "Keith Emerson 32 keyboards\n",
      "Greg Lake 42 guitar\n",
      "Carl Palmer 35 drums\n",
      "Keith Emerson 32 keyboards\n",
      "Greg Lake 42 guitar\n",
      "Carl Palmer 35 drums\n"
     ]
    }
   ],
   "source": [
    "# Demonstration of repeating blocks in JSON and XML\n",
    "import json\n",
    "import xml.etree.ElementTree as etree\n",
    "# Build a JSON structure as a triple quoted string\n",
    "myJSON = \"\"\"\n",
    "    {\n",
    "    \"bandMembers\": [\n",
    "        {\n",
    "            \"name\": \"Keith Emerson\",\n",
    "            \"age\": 32,\n",
    "            \"instrument\": \"keyboards\"\n",
    "        },\n",
    "        {\n",
    "            \"name\": \"Greg Lake\",\n",
    "            \"age\": 42,\n",
    "            \"instrument\": \"guitar\"\n",
    "        },\n",
    "        {\n",
    "            \"name\": \"Carl Palmer\",\n",
    "            \"age\": 35,\n",
    "            \"instrument\": \"drums\"\n",
    "        }\n",
    "    ]\n",
    "}\"\"\"\n",
    "bandMembersDict = json.loads(myJSON)\n",
    "memberList = bandMembersDict['bandMembers']\n",
    "for member in memberList:\n",
    "    print(member['name'], member['age'], member['instrument'])\n",
    "\n",
    "\n",
    "# Build an XML structure as a triple quoted string\n",
    "myXML = \"\"\"\n",
    "<bandMembers>\n",
    "    <member>\n",
    "        <name>Keith Emerson</name>\n",
    "        <age>32</age>\n",
    "        <instrument>keyboards</instrument>\n",
    "    </member>\n",
    "    <member>\n",
    "        <name>Greg Lake</name>\n",
    "        <age>42</age>\n",
    "        <instrument>guitar</instrument>\n",
    "    </member>\n",
    "    <member>\n",
    "        <name>Carl Palmer</name>\n",
    "        <age>35</age>\n",
    "        <instrument>drums</instrument>\n",
    "    </member>\n",
    "</bandMembers>\"\"\"\n",
    "tree = etree.fromstring(myXML)\n",
    "bandMembersList = tree.findall('member')\n",
    "for member in bandMembersList:\n",
    "    print(member.find('name').text, member.find('age').text, member.find('instrument').text)\n"
   ]
  },
  {
   "cell_type": "code",
   "execution_count": 58,
   "id": "proof-power",
   "metadata": {},
   "outputs": [],
   "source": [
    "x = {'A': 'test', 'B': 'new'}"
   ]
  },
  {
   "cell_type": "code",
   "execution_count": 62,
   "id": "abroad-telescope",
   "metadata": {},
   "outputs": [],
   "source": [
    "json_srt = json.dumps(x)"
   ]
  }
 ],
 "metadata": {
  "kernelspec": {
   "display_name": "Python 3",
   "language": "python",
   "name": "python3"
  },
  "language_info": {
   "codemirror_mode": {
    "name": "ipython",
    "version": 3
   },
   "file_extension": ".py",
   "mimetype": "text/x-python",
   "name": "python",
   "nbconvert_exporter": "python",
   "pygments_lexer": "ipython3",
   "version": "3.9.1rc1"
  }
 },
 "nbformat": 4,
 "nbformat_minor": 5
}
