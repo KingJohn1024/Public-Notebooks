{
 "cells": [
  {
   "cell_type": "code",
   "execution_count": 10,
   "id": "orange-monster",
   "metadata": {},
   "outputs": [],
   "source": [
    "import os\n",
    "import json"
   ]
  },
  {
   "cell_type": "code",
   "execution_count": 11,
   "id": "proud-belfast",
   "metadata": {},
   "outputs": [],
   "source": [
    "class Position(object):\n",
    "    def __init__(self, ticker, weight, is_etf):\n",
    "        self.ticker = ticker\n",
    "        self.weight = weight\n",
    "        self.is_etf = is_etf\n",
    "\n",
    "class PortfolioBase(object):\n",
    "    def __init__(self, positions=[]):\n",
    "        self.positions = positions\n",
    "\n",
    "    def get_total_weight(self):\n",
    "        wht = 0\n",
    "        for p in self.positions:\n",
    "            wht += p.weight\n",
    "        return wht\n",
    "\n",
    "class ETF(PortfolioBase):\n",
    "    def __init__(self, etf_ticker, etf_weight, positions=[]):\n",
    "        PortfolioBase.__init__(self)\n",
    "        self.ticker = etf_ticker\n",
    "        self.weight = etf_weight\n",
    "        self.is_etf = True\n",
    "        self.positions = positions\n",
    "        \n",
    "        \n",
    "class Portfolio(PortfolioBase):\n",
    "    def __init__(self, positions=[]):\n",
    "        PortfolioBase.__init__(self)\n",
    "        self.positions = positions\n",
    "\n",
    "    def get_position_weights(self):\n",
    "        pos_whts = {}\n",
    "        for p in self.positions:\n",
    "            if isinstance(p, ETF):\n",
    "                for sub_p in p.positions:\n",
    "                    pos_whts[sub_p.ticker] = sub_p.weight\n",
    "            pos_whts[p.ticker] = p.weight\n",
    "        return pos_whts\n"
   ]
  },
  {
   "cell_type": "code",
   "execution_count": 12,
   "id": "shaped-laugh",
   "metadata": {},
   "outputs": [],
   "source": [
    "def load_etf_whts(ticker):\n",
    "    etfs = {'SPY': {'AAPL': .30, 'MSFT': .25, 'AMZN': .20, 'FB': .15, 'TSLA': .10}}\n",
    "    if ticker in list(etfs.keys()):\n",
    "        return etfs.get(ticker)"
   ]
  },
  {
   "cell_type": "code",
   "execution_count": 13,
   "id": "material-seeker",
   "metadata": {},
   "outputs": [],
   "source": [
    "import os\n",
    "import json\n",
    "def get_look_through_weights(port):\n",
    "    etf_cache_file = '/Users/jking/data/etf_weights.json'\n",
    "    lt_positions = []\n",
    "    for p in port.positions:\n",
    "        if p.is_etf:\n",
    "            if os.path.exists(etf_cache_file):\n",
    "                print('Loading cache file...')\n",
    "                with open(etf_cache_file, 'r') as fh:\n",
    "                    etf_whts = json.load(fh)\n",
    "            else:\n",
    "                etf_whts = load_etf_whts(ticker=p.ticker)\n",
    "                with open(etf_cache_file, 'w') as fh:\n",
    "                    json.dump(etf_whts, fh)\n",
    "\n",
    "            positions = [Position(ticker=constituent_ticker, weight=constituent_weight * p.weight, is_etf=False) \n",
    "                         for constituent_ticker, constituent_weight in etf_whts.items()]\n",
    "            etf_port = ETF(etf_ticker=p.ticker, etf_weight=p.weight, positions=positions)\n",
    "            lt_positions += etf_port.positions\n",
    "        else:\n",
    "            lt_positions.append(p)\n",
    "    return Portfolio(positions=lt_positions)"
   ]
  },
  {
   "cell_type": "code",
   "execution_count": 14,
   "id": "common-imaging",
   "metadata": {},
   "outputs": [],
   "source": [
    "port = Portfolio(positions=[\n",
    "    Position(ticker='FDX', weight=.25, is_etf=False),\n",
    "    Position(ticker='BYND', weight=.25, is_etf=False),\n",
    "    Position(ticker='V', weight=.25, is_etf=False),\n",
    "    Position(ticker='SPY', weight=.25, is_etf=True)])"
   ]
  },
  {
   "cell_type": "code",
   "execution_count": 15,
   "id": "cheap-supplier",
   "metadata": {},
   "outputs": [
    {
     "name": "stdout",
     "output_type": "stream",
     "text": [
      "Loading cache file...\n",
      "{'FDX': 0.25, 'BYND': 0.25, 'V': 0.25, 'AAPL': 0.075, 'MSFT': 0.0625, 'AMZN': 0.05, 'FB': 0.0375, 'TSLA': 0.025}\n"
     ]
    },
    {
     "data": {
      "text/plain": [
       "1.0"
      ]
     },
     "execution_count": 15,
     "metadata": {},
     "output_type": "execute_result"
    }
   ],
   "source": [
    "lt_port = get_look_through_weights(port=port)\n",
    "print(lt_port.get_position_weights())\n",
    "sum(lt_port.get_position_weights().values())"
   ]
  },
  {
   "cell_type": "code",
   "execution_count": 19,
   "id": "homeless-syracuse",
   "metadata": {},
   "outputs": [
    {
     "data": {
      "text/plain": [
       "True"
      ]
     },
     "execution_count": 19,
     "metadata": {},
     "output_type": "execute_result"
    }
   ],
   "source": [
    "etf_cache_file = '/Users/jking/data/etf_weights.json'\n",
    "os.path.exists(etf_cache_file)"
   ]
  },
  {
   "cell_type": "code",
   "execution_count": null,
   "id": "built-cancellation",
   "metadata": {},
   "outputs": [],
   "source": []
  }
 ],
 "metadata": {
  "kernelspec": {
   "display_name": "Python 3",
   "language": "python",
   "name": "python3"
  },
  "language_info": {
   "codemirror_mode": {
    "name": "ipython",
    "version": 3
   },
   "file_extension": ".py",
   "mimetype": "text/x-python",
   "name": "python",
   "nbconvert_exporter": "python",
   "pygments_lexer": "ipython3",
   "version": "3.9.1rc1"
  }
 },
 "nbformat": 4,
 "nbformat_minor": 5
}
